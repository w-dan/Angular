{
  "cells": [
    {
      "cell_type": "code",
      "execution_count": 37,
      "metadata": {
        "id": "Xle04Ixt6JmE"
      },
      "outputs": [],
      "source": [
        "# Importación de librerías\n",
        "\n",
        "import numpy as np\n",
        "import pandas as pd\n",
        "import sklearn.compose as Compose\n",
        "import math\n",
        "\n",
        "from sklearn.preprocessing import MinMaxScaler\n",
        "from sklearn.preprocessing import OrdinalEncoder\n",
        "from sklearn.preprocessing import KBinsDiscretizer\n",
        "\n",
        "from sklearn.metrics import mean_absolute_error\n",
        "from sklearn.model_selection import cross_val_score\n",
        "from sklearn.model_selection import StratifiedKFold\n",
        "from sklearn.model_selection import RandomizedSearchCV, GridSearchCV, KFold\n",
        "from sklearn.feature_extraction.text import CountVectorizer\n",
        "\n",
        "\n",
        "import matplotlib.pyplot as plt\n",
        "\n",
        "from sklearn.model_selection import train_test_split\n",
        "from xgboost import XGBRegressor\n",
        "import xgboost as xgb\n",
        "import re\n"
      ]
    },
    {
      "cell_type": "code",
      "execution_count": 83,
      "metadata": {
        "colab": {
          "base_uri": "https://localhost:8080/",
          "height": 522
        },
        "id": "yhlH1ExQ4ewa",
        "outputId": "554de7f9-b90b-463b-8358-9374850d1e2e"
      },
      "outputs": [
        {
          "output_type": "execute_result",
          "data": {
            "text/plain": [
              "           ID  Customer_ID  Month               Name   Age          SSN  \\\n",
              "0       99246         4759      1           Edwardsz  45.0  169291865.0   \n",
              "1       90071         2573      6            Stevenw  42.0  655780925.0   \n",
              "2       64375        34237      2             Dalaly  32.0   55005463.0   \n",
              "3      142441        47128      8              Lashx  24.0  958087164.0   \n",
              "4      135010        21542      5           Toonkelz  22.0  862456731.0   \n",
              "...       ...          ...    ...                ...   ...          ...   \n",
              "19995  126990        43904      1             Wayneo  42.0  448192628.0   \n",
              "19996  128347         8248      2  Daria Sito-Sucicd  32.0  563291145.0   \n",
              "19997   88941        19882      4            Laurend  43.0  451289406.0   \n",
              "19998   89599        50969      2              Nickx  35.0  994774680.0   \n",
              "19999  107146        40554      5               Koky  52.0  203003994.0   \n",
              "\n",
              "          Occupation  Annual_Income  Monthly_Inhand_Salary  Num_Bank_Accounts  \\\n",
              "0            Manager      57738.060            4881.505000                9.0   \n",
              "1          Scientist      19205.485            1828.457083                5.0   \n",
              "2          Scientist      49768.710            4045.392500                7.0   \n",
              "3             Lawyer      62424.120            5010.010000                7.0   \n",
              "4       Entrepreneur     128163.360           10648.280000                5.0   \n",
              "...              ...            ...                    ...                ...   \n",
              "19995      Scientist      37760.220            3393.685000                3.0   \n",
              "19996       Mechanic      29818.780            2257.898333                4.0   \n",
              "19997         Lawyer      34744.150            2784.345833                3.0   \n",
              "19998  Media_Manager      60271.920            4782.660000                6.0   \n",
              "19999         Writer      79300.220            6354.351667                1.0   \n",
              "\n",
              "       ...  Num_Credit_Inquiries  Credit_Mix  Outstanding_Debt  \\\n",
              "0      ...                  11.0         Bad           3916.47   \n",
              "1      ...                   3.0        Good            372.06   \n",
              "2      ...                  11.0    Standard           1428.04   \n",
              "3      ...                   6.0    Standard           1958.36   \n",
              "4      ...                   5.0        Good           1494.56   \n",
              "...    ...                   ...         ...               ...   \n",
              "19995  ...                   3.0        Good            821.10   \n",
              "19996  ...                   4.0        Good            702.20   \n",
              "19997  ...                   3.0        Good            219.59   \n",
              "19998  ...                  11.0         Bad           4546.95   \n",
              "19999  ...                   1.0        Good            284.52   \n",
              "\n",
              "      Credit_Utilization_Ratio  Credit_History_Age  Payment_of_Min_Amount  \\\n",
              "0                    22.899499               157.0                    Yes   \n",
              "1                    24.585730               241.0                     No   \n",
              "2                    25.129810               168.0                    Yes   \n",
              "3                    27.004401               154.0                    Yes   \n",
              "4                    30.911401               222.0                     No   \n",
              "...                        ...                 ...                    ...   \n",
              "19995                23.938159               194.0                     No   \n",
              "19996                30.990148               376.0                     No   \n",
              "19997                36.911828               398.0                     No   \n",
              "19998                32.122843                96.0                    Yes   \n",
              "19999                29.720272               278.0                     NM   \n",
              "\n",
              "       Total_EMI_per_month  Amount_invested_monthly  \\\n",
              "0               296.284136                53.821178   \n",
              "1                39.417086                19.311009   \n",
              "2               225.693491                50.036548   \n",
              "3               175.360317                55.101365   \n",
              "4               281.792301                77.036872   \n",
              "...                    ...                      ...   \n",
              "19995            88.485663                37.562828   \n",
              "19996            45.977299                27.931177   \n",
              "19997            52.218894                67.741940   \n",
              "19998           203.605795                36.776460   \n",
              "19999           179.304812                59.477685   \n",
              "\n",
              "                      Payment_Behaviour  Monthly_Balance  \n",
              "0       Low_spent_Medium_value_payments        71.427393  \n",
              "1        Low_spent_Small_value_payments       211.447299  \n",
              "2        Low_spent_Small_value_payments       198.465986  \n",
              "3       High_spent_Large_value_payments       472.761456  \n",
              "4        Low_spent_Large_value_payments       536.997743  \n",
              "...                                 ...              ...  \n",
              "19995  High_spent_Medium_value_payments       426.575752  \n",
              "19996   High_spent_Small_value_payments       298.961882  \n",
              "19997   Low_spent_Medium_value_payments       336.382928  \n",
              "19998  High_spent_Medium_value_payments       381.365614  \n",
              "19999    Low_spent_Large_value_payments       474.759497  \n",
              "\n",
              "[20000 rows x 27 columns]"
            ],
            "text/html": [
              "\n",
              "  <div id=\"df-c11c4430-7437-4b00-8138-2396ecf5f4ad\">\n",
              "    <div class=\"colab-df-container\">\n",
              "      <div>\n",
              "<style scoped>\n",
              "    .dataframe tbody tr th:only-of-type {\n",
              "        vertical-align: middle;\n",
              "    }\n",
              "\n",
              "    .dataframe tbody tr th {\n",
              "        vertical-align: top;\n",
              "    }\n",
              "\n",
              "    .dataframe thead th {\n",
              "        text-align: right;\n",
              "    }\n",
              "</style>\n",
              "<table border=\"1\" class=\"dataframe\">\n",
              "  <thead>\n",
              "    <tr style=\"text-align: right;\">\n",
              "      <th></th>\n",
              "      <th>ID</th>\n",
              "      <th>Customer_ID</th>\n",
              "      <th>Month</th>\n",
              "      <th>Name</th>\n",
              "      <th>Age</th>\n",
              "      <th>SSN</th>\n",
              "      <th>Occupation</th>\n",
              "      <th>Annual_Income</th>\n",
              "      <th>Monthly_Inhand_Salary</th>\n",
              "      <th>Num_Bank_Accounts</th>\n",
              "      <th>...</th>\n",
              "      <th>Num_Credit_Inquiries</th>\n",
              "      <th>Credit_Mix</th>\n",
              "      <th>Outstanding_Debt</th>\n",
              "      <th>Credit_Utilization_Ratio</th>\n",
              "      <th>Credit_History_Age</th>\n",
              "      <th>Payment_of_Min_Amount</th>\n",
              "      <th>Total_EMI_per_month</th>\n",
              "      <th>Amount_invested_monthly</th>\n",
              "      <th>Payment_Behaviour</th>\n",
              "      <th>Monthly_Balance</th>\n",
              "    </tr>\n",
              "  </thead>\n",
              "  <tbody>\n",
              "    <tr>\n",
              "      <th>0</th>\n",
              "      <td>99246</td>\n",
              "      <td>4759</td>\n",
              "      <td>1</td>\n",
              "      <td>Edwardsz</td>\n",
              "      <td>45.0</td>\n",
              "      <td>169291865.0</td>\n",
              "      <td>Manager</td>\n",
              "      <td>57738.060</td>\n",
              "      <td>4881.505000</td>\n",
              "      <td>9.0</td>\n",
              "      <td>...</td>\n",
              "      <td>11.0</td>\n",
              "      <td>Bad</td>\n",
              "      <td>3916.47</td>\n",
              "      <td>22.899499</td>\n",
              "      <td>157.0</td>\n",
              "      <td>Yes</td>\n",
              "      <td>296.284136</td>\n",
              "      <td>53.821178</td>\n",
              "      <td>Low_spent_Medium_value_payments</td>\n",
              "      <td>71.427393</td>\n",
              "    </tr>\n",
              "    <tr>\n",
              "      <th>1</th>\n",
              "      <td>90071</td>\n",
              "      <td>2573</td>\n",
              "      <td>6</td>\n",
              "      <td>Stevenw</td>\n",
              "      <td>42.0</td>\n",
              "      <td>655780925.0</td>\n",
              "      <td>Scientist</td>\n",
              "      <td>19205.485</td>\n",
              "      <td>1828.457083</td>\n",
              "      <td>5.0</td>\n",
              "      <td>...</td>\n",
              "      <td>3.0</td>\n",
              "      <td>Good</td>\n",
              "      <td>372.06</td>\n",
              "      <td>24.585730</td>\n",
              "      <td>241.0</td>\n",
              "      <td>No</td>\n",
              "      <td>39.417086</td>\n",
              "      <td>19.311009</td>\n",
              "      <td>Low_spent_Small_value_payments</td>\n",
              "      <td>211.447299</td>\n",
              "    </tr>\n",
              "    <tr>\n",
              "      <th>2</th>\n",
              "      <td>64375</td>\n",
              "      <td>34237</td>\n",
              "      <td>2</td>\n",
              "      <td>Dalaly</td>\n",
              "      <td>32.0</td>\n",
              "      <td>55005463.0</td>\n",
              "      <td>Scientist</td>\n",
              "      <td>49768.710</td>\n",
              "      <td>4045.392500</td>\n",
              "      <td>7.0</td>\n",
              "      <td>...</td>\n",
              "      <td>11.0</td>\n",
              "      <td>Standard</td>\n",
              "      <td>1428.04</td>\n",
              "      <td>25.129810</td>\n",
              "      <td>168.0</td>\n",
              "      <td>Yes</td>\n",
              "      <td>225.693491</td>\n",
              "      <td>50.036548</td>\n",
              "      <td>Low_spent_Small_value_payments</td>\n",
              "      <td>198.465986</td>\n",
              "    </tr>\n",
              "    <tr>\n",
              "      <th>3</th>\n",
              "      <td>142441</td>\n",
              "      <td>47128</td>\n",
              "      <td>8</td>\n",
              "      <td>Lashx</td>\n",
              "      <td>24.0</td>\n",
              "      <td>958087164.0</td>\n",
              "      <td>Lawyer</td>\n",
              "      <td>62424.120</td>\n",
              "      <td>5010.010000</td>\n",
              "      <td>7.0</td>\n",
              "      <td>...</td>\n",
              "      <td>6.0</td>\n",
              "      <td>Standard</td>\n",
              "      <td>1958.36</td>\n",
              "      <td>27.004401</td>\n",
              "      <td>154.0</td>\n",
              "      <td>Yes</td>\n",
              "      <td>175.360317</td>\n",
              "      <td>55.101365</td>\n",
              "      <td>High_spent_Large_value_payments</td>\n",
              "      <td>472.761456</td>\n",
              "    </tr>\n",
              "    <tr>\n",
              "      <th>4</th>\n",
              "      <td>135010</td>\n",
              "      <td>21542</td>\n",
              "      <td>5</td>\n",
              "      <td>Toonkelz</td>\n",
              "      <td>22.0</td>\n",
              "      <td>862456731.0</td>\n",
              "      <td>Entrepreneur</td>\n",
              "      <td>128163.360</td>\n",
              "      <td>10648.280000</td>\n",
              "      <td>5.0</td>\n",
              "      <td>...</td>\n",
              "      <td>5.0</td>\n",
              "      <td>Good</td>\n",
              "      <td>1494.56</td>\n",
              "      <td>30.911401</td>\n",
              "      <td>222.0</td>\n",
              "      <td>No</td>\n",
              "      <td>281.792301</td>\n",
              "      <td>77.036872</td>\n",
              "      <td>Low_spent_Large_value_payments</td>\n",
              "      <td>536.997743</td>\n",
              "    </tr>\n",
              "    <tr>\n",
              "      <th>...</th>\n",
              "      <td>...</td>\n",
              "      <td>...</td>\n",
              "      <td>...</td>\n",
              "      <td>...</td>\n",
              "      <td>...</td>\n",
              "      <td>...</td>\n",
              "      <td>...</td>\n",
              "      <td>...</td>\n",
              "      <td>...</td>\n",
              "      <td>...</td>\n",
              "      <td>...</td>\n",
              "      <td>...</td>\n",
              "      <td>...</td>\n",
              "      <td>...</td>\n",
              "      <td>...</td>\n",
              "      <td>...</td>\n",
              "      <td>...</td>\n",
              "      <td>...</td>\n",
              "      <td>...</td>\n",
              "      <td>...</td>\n",
              "      <td>...</td>\n",
              "    </tr>\n",
              "    <tr>\n",
              "      <th>19995</th>\n",
              "      <td>126990</td>\n",
              "      <td>43904</td>\n",
              "      <td>1</td>\n",
              "      <td>Wayneo</td>\n",
              "      <td>42.0</td>\n",
              "      <td>448192628.0</td>\n",
              "      <td>Scientist</td>\n",
              "      <td>37760.220</td>\n",
              "      <td>3393.685000</td>\n",
              "      <td>3.0</td>\n",
              "      <td>...</td>\n",
              "      <td>3.0</td>\n",
              "      <td>Good</td>\n",
              "      <td>821.10</td>\n",
              "      <td>23.938159</td>\n",
              "      <td>194.0</td>\n",
              "      <td>No</td>\n",
              "      <td>88.485663</td>\n",
              "      <td>37.562828</td>\n",
              "      <td>High_spent_Medium_value_payments</td>\n",
              "      <td>426.575752</td>\n",
              "    </tr>\n",
              "    <tr>\n",
              "      <th>19996</th>\n",
              "      <td>128347</td>\n",
              "      <td>8248</td>\n",
              "      <td>2</td>\n",
              "      <td>Daria Sito-Sucicd</td>\n",
              "      <td>32.0</td>\n",
              "      <td>563291145.0</td>\n",
              "      <td>Mechanic</td>\n",
              "      <td>29818.780</td>\n",
              "      <td>2257.898333</td>\n",
              "      <td>4.0</td>\n",
              "      <td>...</td>\n",
              "      <td>4.0</td>\n",
              "      <td>Good</td>\n",
              "      <td>702.20</td>\n",
              "      <td>30.990148</td>\n",
              "      <td>376.0</td>\n",
              "      <td>No</td>\n",
              "      <td>45.977299</td>\n",
              "      <td>27.931177</td>\n",
              "      <td>High_spent_Small_value_payments</td>\n",
              "      <td>298.961882</td>\n",
              "    </tr>\n",
              "    <tr>\n",
              "      <th>19997</th>\n",
              "      <td>88941</td>\n",
              "      <td>19882</td>\n",
              "      <td>4</td>\n",
              "      <td>Laurend</td>\n",
              "      <td>43.0</td>\n",
              "      <td>451289406.0</td>\n",
              "      <td>Lawyer</td>\n",
              "      <td>34744.150</td>\n",
              "      <td>2784.345833</td>\n",
              "      <td>3.0</td>\n",
              "      <td>...</td>\n",
              "      <td>3.0</td>\n",
              "      <td>Good</td>\n",
              "      <td>219.59</td>\n",
              "      <td>36.911828</td>\n",
              "      <td>398.0</td>\n",
              "      <td>No</td>\n",
              "      <td>52.218894</td>\n",
              "      <td>67.741940</td>\n",
              "      <td>Low_spent_Medium_value_payments</td>\n",
              "      <td>336.382928</td>\n",
              "    </tr>\n",
              "    <tr>\n",
              "      <th>19998</th>\n",
              "      <td>89599</td>\n",
              "      <td>50969</td>\n",
              "      <td>2</td>\n",
              "      <td>Nickx</td>\n",
              "      <td>35.0</td>\n",
              "      <td>994774680.0</td>\n",
              "      <td>Media_Manager</td>\n",
              "      <td>60271.920</td>\n",
              "      <td>4782.660000</td>\n",
              "      <td>6.0</td>\n",
              "      <td>...</td>\n",
              "      <td>11.0</td>\n",
              "      <td>Bad</td>\n",
              "      <td>4546.95</td>\n",
              "      <td>32.122843</td>\n",
              "      <td>96.0</td>\n",
              "      <td>Yes</td>\n",
              "      <td>203.605795</td>\n",
              "      <td>36.776460</td>\n",
              "      <td>High_spent_Medium_value_payments</td>\n",
              "      <td>381.365614</td>\n",
              "    </tr>\n",
              "    <tr>\n",
              "      <th>19999</th>\n",
              "      <td>107146</td>\n",
              "      <td>40554</td>\n",
              "      <td>5</td>\n",
              "      <td>Koky</td>\n",
              "      <td>52.0</td>\n",
              "      <td>203003994.0</td>\n",
              "      <td>Writer</td>\n",
              "      <td>79300.220</td>\n",
              "      <td>6354.351667</td>\n",
              "      <td>1.0</td>\n",
              "      <td>...</td>\n",
              "      <td>1.0</td>\n",
              "      <td>Good</td>\n",
              "      <td>284.52</td>\n",
              "      <td>29.720272</td>\n",
              "      <td>278.0</td>\n",
              "      <td>NM</td>\n",
              "      <td>179.304812</td>\n",
              "      <td>59.477685</td>\n",
              "      <td>Low_spent_Large_value_payments</td>\n",
              "      <td>474.759497</td>\n",
              "    </tr>\n",
              "  </tbody>\n",
              "</table>\n",
              "<p>20000 rows × 27 columns</p>\n",
              "</div>\n",
              "      <button class=\"colab-df-convert\" onclick=\"convertToInteractive('df-c11c4430-7437-4b00-8138-2396ecf5f4ad')\"\n",
              "              title=\"Convert this dataframe to an interactive table.\"\n",
              "              style=\"display:none;\">\n",
              "        \n",
              "  <svg xmlns=\"http://www.w3.org/2000/svg\" height=\"24px\"viewBox=\"0 0 24 24\"\n",
              "       width=\"24px\">\n",
              "    <path d=\"M0 0h24v24H0V0z\" fill=\"none\"/>\n",
              "    <path d=\"M18.56 5.44l.94 2.06.94-2.06 2.06-.94-2.06-.94-.94-2.06-.94 2.06-2.06.94zm-11 1L8.5 8.5l.94-2.06 2.06-.94-2.06-.94L8.5 2.5l-.94 2.06-2.06.94zm10 10l.94 2.06.94-2.06 2.06-.94-2.06-.94-.94-2.06-.94 2.06-2.06.94z\"/><path d=\"M17.41 7.96l-1.37-1.37c-.4-.4-.92-.59-1.43-.59-.52 0-1.04.2-1.43.59L10.3 9.45l-7.72 7.72c-.78.78-.78 2.05 0 2.83L4 21.41c.39.39.9.59 1.41.59.51 0 1.02-.2 1.41-.59l7.78-7.78 2.81-2.81c.8-.78.8-2.07 0-2.86zM5.41 20L4 18.59l7.72-7.72 1.47 1.35L5.41 20z\"/>\n",
              "  </svg>\n",
              "      </button>\n",
              "      \n",
              "  <style>\n",
              "    .colab-df-container {\n",
              "      display:flex;\n",
              "      flex-wrap:wrap;\n",
              "      gap: 12px;\n",
              "    }\n",
              "\n",
              "    .colab-df-convert {\n",
              "      background-color: #E8F0FE;\n",
              "      border: none;\n",
              "      border-radius: 50%;\n",
              "      cursor: pointer;\n",
              "      display: none;\n",
              "      fill: #1967D2;\n",
              "      height: 32px;\n",
              "      padding: 0 0 0 0;\n",
              "      width: 32px;\n",
              "    }\n",
              "\n",
              "    .colab-df-convert:hover {\n",
              "      background-color: #E2EBFA;\n",
              "      box-shadow: 0px 1px 2px rgba(60, 64, 67, 0.3), 0px 1px 3px 1px rgba(60, 64, 67, 0.15);\n",
              "      fill: #174EA6;\n",
              "    }\n",
              "\n",
              "    [theme=dark] .colab-df-convert {\n",
              "      background-color: #3B4455;\n",
              "      fill: #D2E3FC;\n",
              "    }\n",
              "\n",
              "    [theme=dark] .colab-df-convert:hover {\n",
              "      background-color: #434B5C;\n",
              "      box-shadow: 0px 1px 3px 1px rgba(0, 0, 0, 0.15);\n",
              "      filter: drop-shadow(0px 1px 2px rgba(0, 0, 0, 0.3));\n",
              "      fill: #FFFFFF;\n",
              "    }\n",
              "  </style>\n",
              "\n",
              "      <script>\n",
              "        const buttonEl =\n",
              "          document.querySelector('#df-c11c4430-7437-4b00-8138-2396ecf5f4ad button.colab-df-convert');\n",
              "        buttonEl.style.display =\n",
              "          google.colab.kernel.accessAllowed ? 'block' : 'none';\n",
              "\n",
              "        async function convertToInteractive(key) {\n",
              "          const element = document.querySelector('#df-c11c4430-7437-4b00-8138-2396ecf5f4ad');\n",
              "          const dataTable =\n",
              "            await google.colab.kernel.invokeFunction('convertToInteractive',\n",
              "                                                     [key], {});\n",
              "          if (!dataTable) return;\n",
              "\n",
              "          const docLinkHtml = 'Like what you see? Visit the ' +\n",
              "            '<a target=\"_blank\" href=https://colab.research.google.com/notebooks/data_table.ipynb>data table notebook</a>'\n",
              "            + ' to learn more about interactive tables.';\n",
              "          element.innerHTML = '';\n",
              "          dataTable['output_type'] = 'display_data';\n",
              "          await google.colab.output.renderOutput(dataTable, element);\n",
              "          const docLink = document.createElement('div');\n",
              "          docLink.innerHTML = docLinkHtml;\n",
              "          element.appendChild(docLink);\n",
              "        }\n",
              "      </script>\n",
              "    </div>\n",
              "  </div>\n",
              "  "
            ]
          },
          "metadata": {},
          "execution_count": 83
        }
      ],
      "source": [
        "train_url = \"https://raw.githubusercontent.com/Kekon130/ML_Practica2/main/train.csv\"\n",
        "df_train = pd.read_csv(train_url)\n",
        "\n",
        "test_url = \"https://raw.githubusercontent.com/Kekon130/ML_Practica2/main/test.csv\"\n",
        "df_test = pd.read_csv(test_url)\n",
        "submission = df_test[['ID']].copy()\n",
        "#pd.set_option('display.max_columns', None)\n",
        "df_test"
      ]
    },
    {
      "cell_type": "markdown",
      "source": [
        "Observamos que la variable objetivo puede tomar 3 valores distintos: good, bad y standard."
      ],
      "metadata": {
        "id": "OCvLZUK-nfeO"
      }
    },
    {
      "cell_type": "code",
      "source": [
        "df_train.Credit_Mix.unique()"
      ],
      "metadata": {
        "colab": {
          "base_uri": "https://localhost:8080/"
        },
        "id": "XWen-tUjyWzc",
        "outputId": "c4c41e4c-b5d2-40ff-f6d7-3e5d9c820fde"
      },
      "execution_count": null,
      "outputs": [
        {
          "output_type": "execute_result",
          "data": {
            "text/plain": [
              "array(['Good', 'Bad', 'Standard'], dtype=object)"
            ]
          },
          "metadata": {},
          "execution_count": 122
        }
      ]
    },
    {
      "cell_type": "code",
      "source": [
        "# Se incluyen: Credit mix\n",
        "df_train.corr()"
      ],
      "metadata": {
        "colab": {
          "base_uri": "https://localhost:8080/",
          "height": 895
        },
        "id": "wWUc0jBMytSy",
        "outputId": "a06fee6f-9a74-4965-aff8-15687eb3a1e8"
      },
      "execution_count": null,
      "outputs": [
        {
          "output_type": "execute_result",
          "data": {
            "text/plain": [
              "                                ID  Customer_ID     Month       Age       SSN  \\\n",
              "ID                        1.000000     0.001964 -0.000512  0.004816  0.013041   \n",
              "Customer_ID               0.001964     1.000000 -0.000323 -0.002801  0.003594   \n",
              "Month                    -0.000512    -0.000323  1.000000  0.017511 -0.001043   \n",
              "Age                       0.004816    -0.002801  0.017511  1.000000 -0.011201   \n",
              "SSN                       0.013041     0.003594 -0.001043 -0.011201  1.000000   \n",
              "Annual_Income            -0.005183     0.011975 -0.000079  0.090233 -0.006981   \n",
              "Monthly_Inhand_Salary    -0.004815     0.011382 -0.002038  0.089416 -0.007249   \n",
              "Num_Bank_Accounts         0.004798    -0.001796  0.000818 -0.190555  0.011365   \n",
              "Num_Credit_Card          -0.000168    -0.005120  0.000800 -0.149863 -0.002847   \n",
              "Interest_Rate             0.004468    -0.004277 -0.001164 -0.218679  0.005886   \n",
              "Num_of_Loan              -0.009163     0.015604  0.000364 -0.214174 -0.009344   \n",
              "Delay_from_due_date      -0.003872     0.002406 -0.000634 -0.173591  0.012109   \n",
              "Num_of_Delayed_Payment    0.003767     0.004988 -0.001763 -0.183476  0.014305   \n",
              "Changed_Credit_Limit      0.008513     0.000725 -0.000291 -0.158008  0.018431   \n",
              "Num_Credit_Inquiries     -0.002868     0.000927  0.140411 -0.250600 -0.006840   \n",
              "Credit_Mix               -0.002108    -0.003462 -0.001163  0.243550 -0.008205   \n",
              "Outstanding_Debt          0.003183     0.005812 -0.000559 -0.201705  0.004868   \n",
              "Credit_Utilization_Ratio -0.003645    -0.000656  0.000778  0.023244  0.003388   \n",
              "Credit_History_Age       -0.007157    -0.016200  0.023094  0.233662 -0.004394   \n",
              "Payment_of_Min_Amount     0.001626    -0.003824  0.002290  0.183636 -0.006284   \n",
              "Total_EMI_per_month      -0.006065     0.022938  0.049854 -0.048402 -0.004392   \n",
              "Amount_invested_monthly  -0.003628     0.016681 -0.000261  0.069021 -0.002002   \n",
              "Monthly_Balance           0.000855    -0.000210 -0.001185  0.113161 -0.001824   \n",
              "Credit_Score              0.006808     0.004370  0.015373  0.158811  0.005588   \n",
              "\n",
              "                          Annual_Income  Monthly_Inhand_Salary  \\\n",
              "ID                            -0.005183              -0.004815   \n",
              "Customer_ID                    0.011975               0.011382   \n",
              "Month                         -0.000079              -0.002038   \n",
              "Age                            0.090233               0.089416   \n",
              "SSN                           -0.006981              -0.007249   \n",
              "Annual_Income                  1.000000               0.998159   \n",
              "Monthly_Inhand_Salary          0.998159               1.000000   \n",
              "Num_Bank_Accounts             -0.281876              -0.281186   \n",
              "Num_Credit_Card               -0.218327              -0.217318   \n",
              "Interest_Rate                 -0.301307              -0.300959   \n",
              "Num_of_Loan                   -0.254974              -0.253804   \n",
              "Delay_from_due_date           -0.248730              -0.248175   \n",
              "Num_of_Delayed_Payment        -0.286552              -0.285765   \n",
              "Changed_Credit_Limit          -0.175673              -0.175588   \n",
              "Num_Credit_Inquiries          -0.280101              -0.279706   \n",
              "Credit_Mix                     0.342501               0.341355   \n",
              "Outstanding_Debt              -0.267304              -0.267014   \n",
              "Credit_Utilization_Ratio       0.175747               0.175875   \n",
              "Credit_History_Age             0.274049               0.273272   \n",
              "Payment_of_Min_Amount          0.204822               0.204402   \n",
              "Total_EMI_per_month            0.438742               0.422420   \n",
              "Amount_invested_monthly        0.806099               0.807262   \n",
              "Monthly_Balance                0.626568               0.627700   \n",
              "Credit_Score                   0.212140               0.209263   \n",
              "\n",
              "                          Num_Bank_Accounts  Num_Credit_Card  Interest_Rate  \\\n",
              "ID                                 0.004798        -0.000168       0.004468   \n",
              "Customer_ID                       -0.001796        -0.005120      -0.004277   \n",
              "Month                              0.000818         0.000800      -0.001164   \n",
              "Age                               -0.190555        -0.149863      -0.218679   \n",
              "SSN                                0.011365        -0.002847       0.005886   \n",
              "Annual_Income                     -0.281876        -0.218327      -0.301307   \n",
              "Monthly_Inhand_Salary             -0.281186        -0.217318      -0.300959   \n",
              "Num_Bank_Accounts                  1.000000         0.442708       0.583717   \n",
              "Num_Credit_Card                    0.442708         1.000000       0.498413   \n",
              "Interest_Rate                      0.583717         0.498413       1.000000   \n",
              "Num_of_Loan                        0.473781         0.418240       0.558328   \n",
              "Delay_from_due_date                0.559269         0.480885       0.588661   \n",
              "Num_of_Delayed_Payment             0.601690         0.424129       0.571920   \n",
              "Changed_Credit_Limit               0.334204         0.257656       0.371548   \n",
              "Num_Credit_Inquiries               0.518113         0.459463       0.631146   \n",
              "Credit_Mix                        -0.724096        -0.545055      -0.752571   \n",
              "Outstanding_Debt                   0.506809         0.491301       0.629239   \n",
              "Credit_Utilization_Ratio          -0.070431        -0.057726      -0.076424   \n",
              "Credit_History_Age                -0.484647        -0.418541      -0.576542   \n",
              "Payment_of_Min_Amount             -0.390178        -0.275945      -0.425407   \n",
              "Total_EMI_per_month                0.052052         0.059371       0.072822   \n",
              "Amount_invested_monthly           -0.226031        -0.175497      -0.241401   \n",
              "Monthly_Balance                   -0.285286        -0.232813      -0.316302   \n",
              "Credit_Score                      -0.386351        -0.403647      -0.484015   \n",
              "\n",
              "                          ...  Num_Credit_Inquiries  Credit_Mix  \\\n",
              "ID                        ...             -0.002868   -0.002108   \n",
              "Customer_ID               ...              0.000927   -0.003462   \n",
              "Month                     ...              0.140411   -0.001163   \n",
              "Age                       ...             -0.250600    0.243550   \n",
              "SSN                       ...             -0.006840   -0.008205   \n",
              "Annual_Income             ...             -0.280101    0.342501   \n",
              "Monthly_Inhand_Salary     ...             -0.279706    0.341355   \n",
              "Num_Bank_Accounts         ...              0.518113   -0.724096   \n",
              "Num_Credit_Card           ...              0.459463   -0.545055   \n",
              "Interest_Rate             ...              0.631146   -0.752571   \n",
              "Num_of_Loan               ...              0.564324   -0.636945   \n",
              "Delay_from_due_date       ...              0.539086   -0.689341   \n",
              "Num_of_Delayed_Payment    ...              0.499949   -0.758182   \n",
              "Changed_Credit_Limit      ...              0.383502   -0.433995   \n",
              "Num_Credit_Inquiries      ...              1.000000   -0.662422   \n",
              "Credit_Mix                ...             -0.662422    1.000000   \n",
              "Outstanding_Debt          ...              0.595353   -0.687270   \n",
              "Credit_Utilization_Ratio  ...             -0.074793    0.090367   \n",
              "Credit_History_Age        ...             -0.609310    0.640469   \n",
              "Payment_of_Min_Amount     ...             -0.420210    0.510726   \n",
              "Total_EMI_per_month       ...              0.100527   -0.086021   \n",
              "Amount_invested_monthly   ...             -0.221634    0.274504   \n",
              "Monthly_Balance           ...             -0.311624    0.359521   \n",
              "Credit_Score              ...             -0.434142    0.497059   \n",
              "\n",
              "                          Outstanding_Debt  Credit_Utilization_Ratio  \\\n",
              "ID                                0.003183                 -0.003645   \n",
              "Customer_ID                       0.005812                 -0.000656   \n",
              "Month                            -0.000559                  0.000778   \n",
              "Age                              -0.201705                  0.023244   \n",
              "SSN                               0.004868                  0.003388   \n",
              "Annual_Income                    -0.267304                  0.175747   \n",
              "Monthly_Inhand_Salary            -0.267014                  0.175875   \n",
              "Num_Bank_Accounts                 0.506809                 -0.070431   \n",
              "Num_Credit_Card                   0.491301                 -0.057726   \n",
              "Interest_Rate                     0.629239                 -0.076424   \n",
              "Num_of_Loan                       0.638042                 -0.101986   \n",
              "Delay_from_due_date               0.572628                 -0.063218   \n",
              "Num_of_Delayed_Payment            0.504207                 -0.071391   \n",
              "Changed_Credit_Limit              0.465318                 -0.046751   \n",
              "Num_Credit_Inquiries              0.595353                 -0.074793   \n",
              "Credit_Mix                       -0.687270                  0.090367   \n",
              "Outstanding_Debt                  1.000000                 -0.070616   \n",
              "Credit_Utilization_Ratio         -0.070616                  1.000000   \n",
              "Credit_History_Age               -0.628835                  0.073621   \n",
              "Payment_of_Min_Amount            -0.328912                  0.058083   \n",
              "Total_EMI_per_month               0.112923                  0.021026   \n",
              "Amount_invested_monthly          -0.218697                  0.134784   \n",
              "Monthly_Balance                  -0.314223                  0.224933   \n",
              "Credit_Score                     -0.384448                  0.043632   \n",
              "\n",
              "                          Credit_History_Age  Payment_of_Min_Amount  \\\n",
              "ID                                 -0.007157               0.001626   \n",
              "Customer_ID                        -0.016200              -0.003824   \n",
              "Month                               0.023094               0.002290   \n",
              "Age                                 0.233662               0.183636   \n",
              "SSN                                -0.004394              -0.006284   \n",
              "Annual_Income                       0.274049               0.204822   \n",
              "Monthly_Inhand_Salary               0.273272               0.204402   \n",
              "Num_Bank_Accounts                  -0.484647              -0.390178   \n",
              "Num_Credit_Card                    -0.418541              -0.275945   \n",
              "Interest_Rate                      -0.576542              -0.425407   \n",
              "Num_of_Loan                        -0.605599              -0.344034   \n",
              "Delay_from_due_date                -0.491401              -0.338824   \n",
              "Num_of_Delayed_Payment             -0.481859              -0.397021   \n",
              "Changed_Credit_Limit               -0.428852              -0.340528   \n",
              "Num_Credit_Inquiries               -0.609310              -0.420210   \n",
              "Credit_Mix                          0.640469               0.510726   \n",
              "Outstanding_Debt                   -0.628835              -0.328912   \n",
              "Credit_Utilization_Ratio            0.073621               0.058083   \n",
              "Credit_History_Age                  1.000000               0.388666   \n",
              "Payment_of_Min_Amount               0.388666               1.000000   \n",
              "Total_EMI_per_month                -0.115703              -0.045890   \n",
              "Amount_invested_monthly             0.226195               0.161561   \n",
              "Monthly_Balance                     0.321610               0.212266   \n",
              "Credit_Score                        0.387512               0.289685   \n",
              "\n",
              "                          Total_EMI_per_month  Amount_invested_monthly  \\\n",
              "ID                                  -0.006065                -0.003628   \n",
              "Customer_ID                          0.022938                 0.016681   \n",
              "Month                                0.049854                -0.000261   \n",
              "Age                                 -0.048402                 0.069021   \n",
              "SSN                                 -0.004392                -0.002002   \n",
              "Annual_Income                        0.438742                 0.806099   \n",
              "Monthly_Inhand_Salary                0.422420                 0.807262   \n",
              "Num_Bank_Accounts                    0.052052                -0.226031   \n",
              "Num_Credit_Card                      0.059371                -0.175497   \n",
              "Interest_Rate                        0.072822                -0.241401   \n",
              "Num_of_Loan                          0.328250                -0.212863   \n",
              "Delay_from_due_date                  0.080027                -0.199069   \n",
              "Num_of_Delayed_Payment               0.052628                -0.227348   \n",
              "Changed_Credit_Limit                 0.069619                -0.145515   \n",
              "Num_Credit_Inquiries                 0.100527                -0.221634   \n",
              "Credit_Mix                          -0.086021                 0.274504   \n",
              "Outstanding_Debt                     0.112923                -0.218697   \n",
              "Credit_Utilization_Ratio             0.021026                 0.134784   \n",
              "Credit_History_Age                  -0.115703                 0.226195   \n",
              "Payment_of_Min_Amount               -0.045890                 0.161561   \n",
              "Total_EMI_per_month                  1.000000                 0.349781   \n",
              "Amount_invested_monthly              0.349781                 1.000000   \n",
              "Monthly_Balance                      0.071838                 0.477229   \n",
              "Credit_Score                         0.019117                 0.170462   \n",
              "\n",
              "                          Monthly_Balance  Credit_Score  \n",
              "ID                               0.000855      0.006808  \n",
              "Customer_ID                     -0.000210      0.004370  \n",
              "Month                           -0.001185      0.015373  \n",
              "Age                              0.113161      0.158811  \n",
              "SSN                             -0.001824      0.005588  \n",
              "Annual_Income                    0.626568      0.212140  \n",
              "Monthly_Inhand_Salary            0.627700      0.209263  \n",
              "Num_Bank_Accounts               -0.285286     -0.386351  \n",
              "Num_Credit_Card                 -0.232813     -0.403647  \n",
              "Interest_Rate                   -0.316302     -0.484015  \n",
              "Num_of_Loan                     -0.429161     -0.355965  \n",
              "Delay_from_due_date             -0.270741     -0.429844  \n",
              "Num_of_Delayed_Payment          -0.285325     -0.371299  \n",
              "Changed_Credit_Limit            -0.199600     -0.170701  \n",
              "Num_Credit_Inquiries            -0.311624     -0.434142  \n",
              "Credit_Mix                       0.359521      0.497059  \n",
              "Outstanding_Debt                -0.314223     -0.384448  \n",
              "Credit_Utilization_Ratio         0.224933      0.043632  \n",
              "Credit_History_Age               0.321610      0.387512  \n",
              "Payment_of_Min_Amount            0.212266      0.289685  \n",
              "Total_EMI_per_month              0.071838      0.019117  \n",
              "Amount_invested_monthly          0.477229      0.170462  \n",
              "Monthly_Balance                  1.000000      0.194580  \n",
              "Credit_Score                     0.194580      1.000000  \n",
              "\n",
              "[24 rows x 24 columns]"
            ],
            "text/html": [
              "\n",
              "  <div id=\"df-babea011-6b58-4d6a-9bd2-d8e5e30acf9d\">\n",
              "    <div class=\"colab-df-container\">\n",
              "      <div>\n",
              "<style scoped>\n",
              "    .dataframe tbody tr th:only-of-type {\n",
              "        vertical-align: middle;\n",
              "    }\n",
              "\n",
              "    .dataframe tbody tr th {\n",
              "        vertical-align: top;\n",
              "    }\n",
              "\n",
              "    .dataframe thead th {\n",
              "        text-align: right;\n",
              "    }\n",
              "</style>\n",
              "<table border=\"1\" class=\"dataframe\">\n",
              "  <thead>\n",
              "    <tr style=\"text-align: right;\">\n",
              "      <th></th>\n",
              "      <th>ID</th>\n",
              "      <th>Customer_ID</th>\n",
              "      <th>Month</th>\n",
              "      <th>Age</th>\n",
              "      <th>SSN</th>\n",
              "      <th>Annual_Income</th>\n",
              "      <th>Monthly_Inhand_Salary</th>\n",
              "      <th>Num_Bank_Accounts</th>\n",
              "      <th>Num_Credit_Card</th>\n",
              "      <th>Interest_Rate</th>\n",
              "      <th>...</th>\n",
              "      <th>Num_Credit_Inquiries</th>\n",
              "      <th>Credit_Mix</th>\n",
              "      <th>Outstanding_Debt</th>\n",
              "      <th>Credit_Utilization_Ratio</th>\n",
              "      <th>Credit_History_Age</th>\n",
              "      <th>Payment_of_Min_Amount</th>\n",
              "      <th>Total_EMI_per_month</th>\n",
              "      <th>Amount_invested_monthly</th>\n",
              "      <th>Monthly_Balance</th>\n",
              "      <th>Credit_Score</th>\n",
              "    </tr>\n",
              "  </thead>\n",
              "  <tbody>\n",
              "    <tr>\n",
              "      <th>ID</th>\n",
              "      <td>1.000000</td>\n",
              "      <td>0.001964</td>\n",
              "      <td>-0.000512</td>\n",
              "      <td>0.004816</td>\n",
              "      <td>0.013041</td>\n",
              "      <td>-0.005183</td>\n",
              "      <td>-0.004815</td>\n",
              "      <td>0.004798</td>\n",
              "      <td>-0.000168</td>\n",
              "      <td>0.004468</td>\n",
              "      <td>...</td>\n",
              "      <td>-0.002868</td>\n",
              "      <td>-0.002108</td>\n",
              "      <td>0.003183</td>\n",
              "      <td>-0.003645</td>\n",
              "      <td>-0.007157</td>\n",
              "      <td>0.001626</td>\n",
              "      <td>-0.006065</td>\n",
              "      <td>-0.003628</td>\n",
              "      <td>0.000855</td>\n",
              "      <td>0.006808</td>\n",
              "    </tr>\n",
              "    <tr>\n",
              "      <th>Customer_ID</th>\n",
              "      <td>0.001964</td>\n",
              "      <td>1.000000</td>\n",
              "      <td>-0.000323</td>\n",
              "      <td>-0.002801</td>\n",
              "      <td>0.003594</td>\n",
              "      <td>0.011975</td>\n",
              "      <td>0.011382</td>\n",
              "      <td>-0.001796</td>\n",
              "      <td>-0.005120</td>\n",
              "      <td>-0.004277</td>\n",
              "      <td>...</td>\n",
              "      <td>0.000927</td>\n",
              "      <td>-0.003462</td>\n",
              "      <td>0.005812</td>\n",
              "      <td>-0.000656</td>\n",
              "      <td>-0.016200</td>\n",
              "      <td>-0.003824</td>\n",
              "      <td>0.022938</td>\n",
              "      <td>0.016681</td>\n",
              "      <td>-0.000210</td>\n",
              "      <td>0.004370</td>\n",
              "    </tr>\n",
              "    <tr>\n",
              "      <th>Month</th>\n",
              "      <td>-0.000512</td>\n",
              "      <td>-0.000323</td>\n",
              "      <td>1.000000</td>\n",
              "      <td>0.017511</td>\n",
              "      <td>-0.001043</td>\n",
              "      <td>-0.000079</td>\n",
              "      <td>-0.002038</td>\n",
              "      <td>0.000818</td>\n",
              "      <td>0.000800</td>\n",
              "      <td>-0.001164</td>\n",
              "      <td>...</td>\n",
              "      <td>0.140411</td>\n",
              "      <td>-0.001163</td>\n",
              "      <td>-0.000559</td>\n",
              "      <td>0.000778</td>\n",
              "      <td>0.023094</td>\n",
              "      <td>0.002290</td>\n",
              "      <td>0.049854</td>\n",
              "      <td>-0.000261</td>\n",
              "      <td>-0.001185</td>\n",
              "      <td>0.015373</td>\n",
              "    </tr>\n",
              "    <tr>\n",
              "      <th>Age</th>\n",
              "      <td>0.004816</td>\n",
              "      <td>-0.002801</td>\n",
              "      <td>0.017511</td>\n",
              "      <td>1.000000</td>\n",
              "      <td>-0.011201</td>\n",
              "      <td>0.090233</td>\n",
              "      <td>0.089416</td>\n",
              "      <td>-0.190555</td>\n",
              "      <td>-0.149863</td>\n",
              "      <td>-0.218679</td>\n",
              "      <td>...</td>\n",
              "      <td>-0.250600</td>\n",
              "      <td>0.243550</td>\n",
              "      <td>-0.201705</td>\n",
              "      <td>0.023244</td>\n",
              "      <td>0.233662</td>\n",
              "      <td>0.183636</td>\n",
              "      <td>-0.048402</td>\n",
              "      <td>0.069021</td>\n",
              "      <td>0.113161</td>\n",
              "      <td>0.158811</td>\n",
              "    </tr>\n",
              "    <tr>\n",
              "      <th>SSN</th>\n",
              "      <td>0.013041</td>\n",
              "      <td>0.003594</td>\n",
              "      <td>-0.001043</td>\n",
              "      <td>-0.011201</td>\n",
              "      <td>1.000000</td>\n",
              "      <td>-0.006981</td>\n",
              "      <td>-0.007249</td>\n",
              "      <td>0.011365</td>\n",
              "      <td>-0.002847</td>\n",
              "      <td>0.005886</td>\n",
              "      <td>...</td>\n",
              "      <td>-0.006840</td>\n",
              "      <td>-0.008205</td>\n",
              "      <td>0.004868</td>\n",
              "      <td>0.003388</td>\n",
              "      <td>-0.004394</td>\n",
              "      <td>-0.006284</td>\n",
              "      <td>-0.004392</td>\n",
              "      <td>-0.002002</td>\n",
              "      <td>-0.001824</td>\n",
              "      <td>0.005588</td>\n",
              "    </tr>\n",
              "    <tr>\n",
              "      <th>Annual_Income</th>\n",
              "      <td>-0.005183</td>\n",
              "      <td>0.011975</td>\n",
              "      <td>-0.000079</td>\n",
              "      <td>0.090233</td>\n",
              "      <td>-0.006981</td>\n",
              "      <td>1.000000</td>\n",
              "      <td>0.998159</td>\n",
              "      <td>-0.281876</td>\n",
              "      <td>-0.218327</td>\n",
              "      <td>-0.301307</td>\n",
              "      <td>...</td>\n",
              "      <td>-0.280101</td>\n",
              "      <td>0.342501</td>\n",
              "      <td>-0.267304</td>\n",
              "      <td>0.175747</td>\n",
              "      <td>0.274049</td>\n",
              "      <td>0.204822</td>\n",
              "      <td>0.438742</td>\n",
              "      <td>0.806099</td>\n",
              "      <td>0.626568</td>\n",
              "      <td>0.212140</td>\n",
              "    </tr>\n",
              "    <tr>\n",
              "      <th>Monthly_Inhand_Salary</th>\n",
              "      <td>-0.004815</td>\n",
              "      <td>0.011382</td>\n",
              "      <td>-0.002038</td>\n",
              "      <td>0.089416</td>\n",
              "      <td>-0.007249</td>\n",
              "      <td>0.998159</td>\n",
              "      <td>1.000000</td>\n",
              "      <td>-0.281186</td>\n",
              "      <td>-0.217318</td>\n",
              "      <td>-0.300959</td>\n",
              "      <td>...</td>\n",
              "      <td>-0.279706</td>\n",
              "      <td>0.341355</td>\n",
              "      <td>-0.267014</td>\n",
              "      <td>0.175875</td>\n",
              "      <td>0.273272</td>\n",
              "      <td>0.204402</td>\n",
              "      <td>0.422420</td>\n",
              "      <td>0.807262</td>\n",
              "      <td>0.627700</td>\n",
              "      <td>0.209263</td>\n",
              "    </tr>\n",
              "    <tr>\n",
              "      <th>Num_Bank_Accounts</th>\n",
              "      <td>0.004798</td>\n",
              "      <td>-0.001796</td>\n",
              "      <td>0.000818</td>\n",
              "      <td>-0.190555</td>\n",
              "      <td>0.011365</td>\n",
              "      <td>-0.281876</td>\n",
              "      <td>-0.281186</td>\n",
              "      <td>1.000000</td>\n",
              "      <td>0.442708</td>\n",
              "      <td>0.583717</td>\n",
              "      <td>...</td>\n",
              "      <td>0.518113</td>\n",
              "      <td>-0.724096</td>\n",
              "      <td>0.506809</td>\n",
              "      <td>-0.070431</td>\n",
              "      <td>-0.484647</td>\n",
              "      <td>-0.390178</td>\n",
              "      <td>0.052052</td>\n",
              "      <td>-0.226031</td>\n",
              "      <td>-0.285286</td>\n",
              "      <td>-0.386351</td>\n",
              "    </tr>\n",
              "    <tr>\n",
              "      <th>Num_Credit_Card</th>\n",
              "      <td>-0.000168</td>\n",
              "      <td>-0.005120</td>\n",
              "      <td>0.000800</td>\n",
              "      <td>-0.149863</td>\n",
              "      <td>-0.002847</td>\n",
              "      <td>-0.218327</td>\n",
              "      <td>-0.217318</td>\n",
              "      <td>0.442708</td>\n",
              "      <td>1.000000</td>\n",
              "      <td>0.498413</td>\n",
              "      <td>...</td>\n",
              "      <td>0.459463</td>\n",
              "      <td>-0.545055</td>\n",
              "      <td>0.491301</td>\n",
              "      <td>-0.057726</td>\n",
              "      <td>-0.418541</td>\n",
              "      <td>-0.275945</td>\n",
              "      <td>0.059371</td>\n",
              "      <td>-0.175497</td>\n",
              "      <td>-0.232813</td>\n",
              "      <td>-0.403647</td>\n",
              "    </tr>\n",
              "    <tr>\n",
              "      <th>Interest_Rate</th>\n",
              "      <td>0.004468</td>\n",
              "      <td>-0.004277</td>\n",
              "      <td>-0.001164</td>\n",
              "      <td>-0.218679</td>\n",
              "      <td>0.005886</td>\n",
              "      <td>-0.301307</td>\n",
              "      <td>-0.300959</td>\n",
              "      <td>0.583717</td>\n",
              "      <td>0.498413</td>\n",
              "      <td>1.000000</td>\n",
              "      <td>...</td>\n",
              "      <td>0.631146</td>\n",
              "      <td>-0.752571</td>\n",
              "      <td>0.629239</td>\n",
              "      <td>-0.076424</td>\n",
              "      <td>-0.576542</td>\n",
              "      <td>-0.425407</td>\n",
              "      <td>0.072822</td>\n",
              "      <td>-0.241401</td>\n",
              "      <td>-0.316302</td>\n",
              "      <td>-0.484015</td>\n",
              "    </tr>\n",
              "    <tr>\n",
              "      <th>Num_of_Loan</th>\n",
              "      <td>-0.009163</td>\n",
              "      <td>0.015604</td>\n",
              "      <td>0.000364</td>\n",
              "      <td>-0.214174</td>\n",
              "      <td>-0.009344</td>\n",
              "      <td>-0.254974</td>\n",
              "      <td>-0.253804</td>\n",
              "      <td>0.473781</td>\n",
              "      <td>0.418240</td>\n",
              "      <td>0.558328</td>\n",
              "      <td>...</td>\n",
              "      <td>0.564324</td>\n",
              "      <td>-0.636945</td>\n",
              "      <td>0.638042</td>\n",
              "      <td>-0.101986</td>\n",
              "      <td>-0.605599</td>\n",
              "      <td>-0.344034</td>\n",
              "      <td>0.328250</td>\n",
              "      <td>-0.212863</td>\n",
              "      <td>-0.429161</td>\n",
              "      <td>-0.355965</td>\n",
              "    </tr>\n",
              "    <tr>\n",
              "      <th>Delay_from_due_date</th>\n",
              "      <td>-0.003872</td>\n",
              "      <td>0.002406</td>\n",
              "      <td>-0.000634</td>\n",
              "      <td>-0.173591</td>\n",
              "      <td>0.012109</td>\n",
              "      <td>-0.248730</td>\n",
              "      <td>-0.248175</td>\n",
              "      <td>0.559269</td>\n",
              "      <td>0.480885</td>\n",
              "      <td>0.588661</td>\n",
              "      <td>...</td>\n",
              "      <td>0.539086</td>\n",
              "      <td>-0.689341</td>\n",
              "      <td>0.572628</td>\n",
              "      <td>-0.063218</td>\n",
              "      <td>-0.491401</td>\n",
              "      <td>-0.338824</td>\n",
              "      <td>0.080027</td>\n",
              "      <td>-0.199069</td>\n",
              "      <td>-0.270741</td>\n",
              "      <td>-0.429844</td>\n",
              "    </tr>\n",
              "    <tr>\n",
              "      <th>Num_of_Delayed_Payment</th>\n",
              "      <td>0.003767</td>\n",
              "      <td>0.004988</td>\n",
              "      <td>-0.001763</td>\n",
              "      <td>-0.183476</td>\n",
              "      <td>0.014305</td>\n",
              "      <td>-0.286552</td>\n",
              "      <td>-0.285765</td>\n",
              "      <td>0.601690</td>\n",
              "      <td>0.424129</td>\n",
              "      <td>0.571920</td>\n",
              "      <td>...</td>\n",
              "      <td>0.499949</td>\n",
              "      <td>-0.758182</td>\n",
              "      <td>0.504207</td>\n",
              "      <td>-0.071391</td>\n",
              "      <td>-0.481859</td>\n",
              "      <td>-0.397021</td>\n",
              "      <td>0.052628</td>\n",
              "      <td>-0.227348</td>\n",
              "      <td>-0.285325</td>\n",
              "      <td>-0.371299</td>\n",
              "    </tr>\n",
              "    <tr>\n",
              "      <th>Changed_Credit_Limit</th>\n",
              "      <td>0.008513</td>\n",
              "      <td>0.000725</td>\n",
              "      <td>-0.000291</td>\n",
              "      <td>-0.158008</td>\n",
              "      <td>0.018431</td>\n",
              "      <td>-0.175673</td>\n",
              "      <td>-0.175588</td>\n",
              "      <td>0.334204</td>\n",
              "      <td>0.257656</td>\n",
              "      <td>0.371548</td>\n",
              "      <td>...</td>\n",
              "      <td>0.383502</td>\n",
              "      <td>-0.433995</td>\n",
              "      <td>0.465318</td>\n",
              "      <td>-0.046751</td>\n",
              "      <td>-0.428852</td>\n",
              "      <td>-0.340528</td>\n",
              "      <td>0.069619</td>\n",
              "      <td>-0.145515</td>\n",
              "      <td>-0.199600</td>\n",
              "      <td>-0.170701</td>\n",
              "    </tr>\n",
              "    <tr>\n",
              "      <th>Num_Credit_Inquiries</th>\n",
              "      <td>-0.002868</td>\n",
              "      <td>0.000927</td>\n",
              "      <td>0.140411</td>\n",
              "      <td>-0.250600</td>\n",
              "      <td>-0.006840</td>\n",
              "      <td>-0.280101</td>\n",
              "      <td>-0.279706</td>\n",
              "      <td>0.518113</td>\n",
              "      <td>0.459463</td>\n",
              "      <td>0.631146</td>\n",
              "      <td>...</td>\n",
              "      <td>1.000000</td>\n",
              "      <td>-0.662422</td>\n",
              "      <td>0.595353</td>\n",
              "      <td>-0.074793</td>\n",
              "      <td>-0.609310</td>\n",
              "      <td>-0.420210</td>\n",
              "      <td>0.100527</td>\n",
              "      <td>-0.221634</td>\n",
              "      <td>-0.311624</td>\n",
              "      <td>-0.434142</td>\n",
              "    </tr>\n",
              "    <tr>\n",
              "      <th>Credit_Mix</th>\n",
              "      <td>-0.002108</td>\n",
              "      <td>-0.003462</td>\n",
              "      <td>-0.001163</td>\n",
              "      <td>0.243550</td>\n",
              "      <td>-0.008205</td>\n",
              "      <td>0.342501</td>\n",
              "      <td>0.341355</td>\n",
              "      <td>-0.724096</td>\n",
              "      <td>-0.545055</td>\n",
              "      <td>-0.752571</td>\n",
              "      <td>...</td>\n",
              "      <td>-0.662422</td>\n",
              "      <td>1.000000</td>\n",
              "      <td>-0.687270</td>\n",
              "      <td>0.090367</td>\n",
              "      <td>0.640469</td>\n",
              "      <td>0.510726</td>\n",
              "      <td>-0.086021</td>\n",
              "      <td>0.274504</td>\n",
              "      <td>0.359521</td>\n",
              "      <td>0.497059</td>\n",
              "    </tr>\n",
              "    <tr>\n",
              "      <th>Outstanding_Debt</th>\n",
              "      <td>0.003183</td>\n",
              "      <td>0.005812</td>\n",
              "      <td>-0.000559</td>\n",
              "      <td>-0.201705</td>\n",
              "      <td>0.004868</td>\n",
              "      <td>-0.267304</td>\n",
              "      <td>-0.267014</td>\n",
              "      <td>0.506809</td>\n",
              "      <td>0.491301</td>\n",
              "      <td>0.629239</td>\n",
              "      <td>...</td>\n",
              "      <td>0.595353</td>\n",
              "      <td>-0.687270</td>\n",
              "      <td>1.000000</td>\n",
              "      <td>-0.070616</td>\n",
              "      <td>-0.628835</td>\n",
              "      <td>-0.328912</td>\n",
              "      <td>0.112923</td>\n",
              "      <td>-0.218697</td>\n",
              "      <td>-0.314223</td>\n",
              "      <td>-0.384448</td>\n",
              "    </tr>\n",
              "    <tr>\n",
              "      <th>Credit_Utilization_Ratio</th>\n",
              "      <td>-0.003645</td>\n",
              "      <td>-0.000656</td>\n",
              "      <td>0.000778</td>\n",
              "      <td>0.023244</td>\n",
              "      <td>0.003388</td>\n",
              "      <td>0.175747</td>\n",
              "      <td>0.175875</td>\n",
              "      <td>-0.070431</td>\n",
              "      <td>-0.057726</td>\n",
              "      <td>-0.076424</td>\n",
              "      <td>...</td>\n",
              "      <td>-0.074793</td>\n",
              "      <td>0.090367</td>\n",
              "      <td>-0.070616</td>\n",
              "      <td>1.000000</td>\n",
              "      <td>0.073621</td>\n",
              "      <td>0.058083</td>\n",
              "      <td>0.021026</td>\n",
              "      <td>0.134784</td>\n",
              "      <td>0.224933</td>\n",
              "      <td>0.043632</td>\n",
              "    </tr>\n",
              "    <tr>\n",
              "      <th>Credit_History_Age</th>\n",
              "      <td>-0.007157</td>\n",
              "      <td>-0.016200</td>\n",
              "      <td>0.023094</td>\n",
              "      <td>0.233662</td>\n",
              "      <td>-0.004394</td>\n",
              "      <td>0.274049</td>\n",
              "      <td>0.273272</td>\n",
              "      <td>-0.484647</td>\n",
              "      <td>-0.418541</td>\n",
              "      <td>-0.576542</td>\n",
              "      <td>...</td>\n",
              "      <td>-0.609310</td>\n",
              "      <td>0.640469</td>\n",
              "      <td>-0.628835</td>\n",
              "      <td>0.073621</td>\n",
              "      <td>1.000000</td>\n",
              "      <td>0.388666</td>\n",
              "      <td>-0.115703</td>\n",
              "      <td>0.226195</td>\n",
              "      <td>0.321610</td>\n",
              "      <td>0.387512</td>\n",
              "    </tr>\n",
              "    <tr>\n",
              "      <th>Payment_of_Min_Amount</th>\n",
              "      <td>0.001626</td>\n",
              "      <td>-0.003824</td>\n",
              "      <td>0.002290</td>\n",
              "      <td>0.183636</td>\n",
              "      <td>-0.006284</td>\n",
              "      <td>0.204822</td>\n",
              "      <td>0.204402</td>\n",
              "      <td>-0.390178</td>\n",
              "      <td>-0.275945</td>\n",
              "      <td>-0.425407</td>\n",
              "      <td>...</td>\n",
              "      <td>-0.420210</td>\n",
              "      <td>0.510726</td>\n",
              "      <td>-0.328912</td>\n",
              "      <td>0.058083</td>\n",
              "      <td>0.388666</td>\n",
              "      <td>1.000000</td>\n",
              "      <td>-0.045890</td>\n",
              "      <td>0.161561</td>\n",
              "      <td>0.212266</td>\n",
              "      <td>0.289685</td>\n",
              "    </tr>\n",
              "    <tr>\n",
              "      <th>Total_EMI_per_month</th>\n",
              "      <td>-0.006065</td>\n",
              "      <td>0.022938</td>\n",
              "      <td>0.049854</td>\n",
              "      <td>-0.048402</td>\n",
              "      <td>-0.004392</td>\n",
              "      <td>0.438742</td>\n",
              "      <td>0.422420</td>\n",
              "      <td>0.052052</td>\n",
              "      <td>0.059371</td>\n",
              "      <td>0.072822</td>\n",
              "      <td>...</td>\n",
              "      <td>0.100527</td>\n",
              "      <td>-0.086021</td>\n",
              "      <td>0.112923</td>\n",
              "      <td>0.021026</td>\n",
              "      <td>-0.115703</td>\n",
              "      <td>-0.045890</td>\n",
              "      <td>1.000000</td>\n",
              "      <td>0.349781</td>\n",
              "      <td>0.071838</td>\n",
              "      <td>0.019117</td>\n",
              "    </tr>\n",
              "    <tr>\n",
              "      <th>Amount_invested_monthly</th>\n",
              "      <td>-0.003628</td>\n",
              "      <td>0.016681</td>\n",
              "      <td>-0.000261</td>\n",
              "      <td>0.069021</td>\n",
              "      <td>-0.002002</td>\n",
              "      <td>0.806099</td>\n",
              "      <td>0.807262</td>\n",
              "      <td>-0.226031</td>\n",
              "      <td>-0.175497</td>\n",
              "      <td>-0.241401</td>\n",
              "      <td>...</td>\n",
              "      <td>-0.221634</td>\n",
              "      <td>0.274504</td>\n",
              "      <td>-0.218697</td>\n",
              "      <td>0.134784</td>\n",
              "      <td>0.226195</td>\n",
              "      <td>0.161561</td>\n",
              "      <td>0.349781</td>\n",
              "      <td>1.000000</td>\n",
              "      <td>0.477229</td>\n",
              "      <td>0.170462</td>\n",
              "    </tr>\n",
              "    <tr>\n",
              "      <th>Monthly_Balance</th>\n",
              "      <td>0.000855</td>\n",
              "      <td>-0.000210</td>\n",
              "      <td>-0.001185</td>\n",
              "      <td>0.113161</td>\n",
              "      <td>-0.001824</td>\n",
              "      <td>0.626568</td>\n",
              "      <td>0.627700</td>\n",
              "      <td>-0.285286</td>\n",
              "      <td>-0.232813</td>\n",
              "      <td>-0.316302</td>\n",
              "      <td>...</td>\n",
              "      <td>-0.311624</td>\n",
              "      <td>0.359521</td>\n",
              "      <td>-0.314223</td>\n",
              "      <td>0.224933</td>\n",
              "      <td>0.321610</td>\n",
              "      <td>0.212266</td>\n",
              "      <td>0.071838</td>\n",
              "      <td>0.477229</td>\n",
              "      <td>1.000000</td>\n",
              "      <td>0.194580</td>\n",
              "    </tr>\n",
              "    <tr>\n",
              "      <th>Credit_Score</th>\n",
              "      <td>0.006808</td>\n",
              "      <td>0.004370</td>\n",
              "      <td>0.015373</td>\n",
              "      <td>0.158811</td>\n",
              "      <td>0.005588</td>\n",
              "      <td>0.212140</td>\n",
              "      <td>0.209263</td>\n",
              "      <td>-0.386351</td>\n",
              "      <td>-0.403647</td>\n",
              "      <td>-0.484015</td>\n",
              "      <td>...</td>\n",
              "      <td>-0.434142</td>\n",
              "      <td>0.497059</td>\n",
              "      <td>-0.384448</td>\n",
              "      <td>0.043632</td>\n",
              "      <td>0.387512</td>\n",
              "      <td>0.289685</td>\n",
              "      <td>0.019117</td>\n",
              "      <td>0.170462</td>\n",
              "      <td>0.194580</td>\n",
              "      <td>1.000000</td>\n",
              "    </tr>\n",
              "  </tbody>\n",
              "</table>\n",
              "<p>24 rows × 24 columns</p>\n",
              "</div>\n",
              "      <button class=\"colab-df-convert\" onclick=\"convertToInteractive('df-babea011-6b58-4d6a-9bd2-d8e5e30acf9d')\"\n",
              "              title=\"Convert this dataframe to an interactive table.\"\n",
              "              style=\"display:none;\">\n",
              "        \n",
              "  <svg xmlns=\"http://www.w3.org/2000/svg\" height=\"24px\"viewBox=\"0 0 24 24\"\n",
              "       width=\"24px\">\n",
              "    <path d=\"M0 0h24v24H0V0z\" fill=\"none\"/>\n",
              "    <path d=\"M18.56 5.44l.94 2.06.94-2.06 2.06-.94-2.06-.94-.94-2.06-.94 2.06-2.06.94zm-11 1L8.5 8.5l.94-2.06 2.06-.94-2.06-.94L8.5 2.5l-.94 2.06-2.06.94zm10 10l.94 2.06.94-2.06 2.06-.94-2.06-.94-.94-2.06-.94 2.06-2.06.94z\"/><path d=\"M17.41 7.96l-1.37-1.37c-.4-.4-.92-.59-1.43-.59-.52 0-1.04.2-1.43.59L10.3 9.45l-7.72 7.72c-.78.78-.78 2.05 0 2.83L4 21.41c.39.39.9.59 1.41.59.51 0 1.02-.2 1.41-.59l7.78-7.78 2.81-2.81c.8-.78.8-2.07 0-2.86zM5.41 20L4 18.59l7.72-7.72 1.47 1.35L5.41 20z\"/>\n",
              "  </svg>\n",
              "      </button>\n",
              "      \n",
              "  <style>\n",
              "    .colab-df-container {\n",
              "      display:flex;\n",
              "      flex-wrap:wrap;\n",
              "      gap: 12px;\n",
              "    }\n",
              "\n",
              "    .colab-df-convert {\n",
              "      background-color: #E8F0FE;\n",
              "      border: none;\n",
              "      border-radius: 50%;\n",
              "      cursor: pointer;\n",
              "      display: none;\n",
              "      fill: #1967D2;\n",
              "      height: 32px;\n",
              "      padding: 0 0 0 0;\n",
              "      width: 32px;\n",
              "    }\n",
              "\n",
              "    .colab-df-convert:hover {\n",
              "      background-color: #E2EBFA;\n",
              "      box-shadow: 0px 1px 2px rgba(60, 64, 67, 0.3), 0px 1px 3px 1px rgba(60, 64, 67, 0.15);\n",
              "      fill: #174EA6;\n",
              "    }\n",
              "\n",
              "    [theme=dark] .colab-df-convert {\n",
              "      background-color: #3B4455;\n",
              "      fill: #D2E3FC;\n",
              "    }\n",
              "\n",
              "    [theme=dark] .colab-df-convert:hover {\n",
              "      background-color: #434B5C;\n",
              "      box-shadow: 0px 1px 3px 1px rgba(0, 0, 0, 0.15);\n",
              "      filter: drop-shadow(0px 1px 2px rgba(0, 0, 0, 0.3));\n",
              "      fill: #FFFFFF;\n",
              "    }\n",
              "  </style>\n",
              "\n",
              "      <script>\n",
              "        const buttonEl =\n",
              "          document.querySelector('#df-babea011-6b58-4d6a-9bd2-d8e5e30acf9d button.colab-df-convert');\n",
              "        buttonEl.style.display =\n",
              "          google.colab.kernel.accessAllowed ? 'block' : 'none';\n",
              "\n",
              "        async function convertToInteractive(key) {\n",
              "          const element = document.querySelector('#df-babea011-6b58-4d6a-9bd2-d8e5e30acf9d');\n",
              "          const dataTable =\n",
              "            await google.colab.kernel.invokeFunction('convertToInteractive',\n",
              "                                                     [key], {});\n",
              "          if (!dataTable) return;\n",
              "\n",
              "          const docLinkHtml = 'Like what you see? Visit the ' +\n",
              "            '<a target=\"_blank\" href=https://colab.research.google.com/notebooks/data_table.ipynb>data table notebook</a>'\n",
              "            + ' to learn more about interactive tables.';\n",
              "          element.innerHTML = '';\n",
              "          dataTable['output_type'] = 'display_data';\n",
              "          await google.colab.output.renderOutput(dataTable, element);\n",
              "          const docLink = document.createElement('div');\n",
              "          docLink.innerHTML = docLinkHtml;\n",
              "          element.appendChild(docLink);\n",
              "        }\n",
              "      </script>\n",
              "    </div>\n",
              "  </div>\n",
              "  "
            ]
          },
          "metadata": {},
          "execution_count": 399
        }
      ]
    },
    {
      "cell_type": "markdown",
      "metadata": {
        "id": "niUmVXcaIByz"
      },
      "source": [
        "\n",
        "# Analizando las columnas"
      ]
    },
    {
      "cell_type": "markdown",
      "source": [
        "A continuación se define una función para redondear los valores y graficarlos con mayor comodidad.  "
      ],
      "metadata": {
        "id": "sh87RUe8n0BL"
      }
    },
    {
      "cell_type": "code",
      "execution_count": null,
      "metadata": {
        "id": "wOnLAYLxRXXq"
      },
      "outputs": [],
      "source": [
        "def transformar_valores(columna, decimal):\n",
        "  for index, row in df_train.iterrows():\n",
        "    df_train.loc[index, columna] = round(df_train.loc[index, columna], decimal)\n",
        "\n",
        "\n",
        "\n",
        "transformar_valores(\"Annual_Income\", -4)\n",
        "transformar_valores(\"Monthly_Inhand_Salary\", -3)\n",
        "transformar_valores(\"Changed_Credit_Limit\", -1)\n",
        "transformar_valores(\"Outstanding_Debt\", -2)\n",
        "transformar_valores(\"Credit_Utilization_Ratio\", 1)\n",
        "transformar_valores(\"Total_EMI_per_month\", -1)\n",
        "transformar_valores(\"Amount_invested_monthly\", -1)\n",
        "transformar_valores(\"Monthly_Balance\", -2)\n"
      ]
    },
    {
      "cell_type": "markdown",
      "source": [
        "### Month\n",
        "Representa el mes del año en el que se actualizó la información"
      ],
      "metadata": {
        "id": "kGdzOAfJoCIs"
      }
    },
    {
      "cell_type": "code",
      "execution_count": 81,
      "metadata": {
        "colab": {
          "base_uri": "https://localhost:8080/",
          "height": 502
        },
        "id": "oljVEFwAexgk",
        "outputId": "77e1f4cd-a83f-49f8-ed39-3ff09471974a"
      },
      "outputs": [
        {
          "output_type": "error",
          "ename": "KeyError",
          "evalue": "ignored",
          "traceback": [
            "\u001b[0;31m---------------------------------------------------------------------------\u001b[0m",
            "\u001b[0;31mKeyError\u001b[0m                                  Traceback (most recent call last)",
            "\u001b[0;32m/usr/local/lib/python3.7/dist-packages/pandas/core/indexes/base.py\u001b[0m in \u001b[0;36mget_loc\u001b[0;34m(self, key, method, tolerance)\u001b[0m\n\u001b[1;32m   3360\u001b[0m             \u001b[0;32mtry\u001b[0m\u001b[0;34m:\u001b[0m\u001b[0;34m\u001b[0m\u001b[0;34m\u001b[0m\u001b[0m\n\u001b[0;32m-> 3361\u001b[0;31m                 \u001b[0;32mreturn\u001b[0m \u001b[0mself\u001b[0m\u001b[0;34m.\u001b[0m\u001b[0m_engine\u001b[0m\u001b[0;34m.\u001b[0m\u001b[0mget_loc\u001b[0m\u001b[0;34m(\u001b[0m\u001b[0mcasted_key\u001b[0m\u001b[0;34m)\u001b[0m\u001b[0;34m\u001b[0m\u001b[0;34m\u001b[0m\u001b[0m\n\u001b[0m\u001b[1;32m   3362\u001b[0m             \u001b[0;32mexcept\u001b[0m \u001b[0mKeyError\u001b[0m \u001b[0;32mas\u001b[0m \u001b[0merr\u001b[0m\u001b[0;34m:\u001b[0m\u001b[0;34m\u001b[0m\u001b[0;34m\u001b[0m\u001b[0m\n",
            "\u001b[0;32m/usr/local/lib/python3.7/dist-packages/pandas/_libs/index.pyx\u001b[0m in \u001b[0;36mpandas._libs.index.IndexEngine.get_loc\u001b[0;34m()\u001b[0m\n",
            "\u001b[0;32m/usr/local/lib/python3.7/dist-packages/pandas/_libs/index.pyx\u001b[0m in \u001b[0;36mpandas._libs.index.IndexEngine.get_loc\u001b[0;34m()\u001b[0m\n",
            "\u001b[0;32mpandas/_libs/hashtable_class_helper.pxi\u001b[0m in \u001b[0;36mpandas._libs.hashtable.PyObjectHashTable.get_item\u001b[0;34m()\u001b[0m\n",
            "\u001b[0;32mpandas/_libs/hashtable_class_helper.pxi\u001b[0m in \u001b[0;36mpandas._libs.hashtable.PyObjectHashTable.get_item\u001b[0;34m()\u001b[0m\n",
            "\u001b[0;31mKeyError\u001b[0m: 'Month'",
            "\nThe above exception was the direct cause of the following exception:\n",
            "\u001b[0;31mKeyError\u001b[0m                                  Traceback (most recent call last)",
            "\u001b[0;32m<ipython-input-81-ead6aa69563a>\u001b[0m in \u001b[0;36m<module>\u001b[0;34m\u001b[0m\n\u001b[0;32m----> 1\u001b[0;31m plot = pd.crosstab(index=df_train['Month'],\n\u001b[0m\u001b[1;32m      2\u001b[0m             \u001b[0mcolumns\u001b[0m\u001b[0;34m=\u001b[0m\u001b[0mdf_train\u001b[0m\u001b[0;34m[\u001b[0m\u001b[0;34m\"Credit_Score\"\u001b[0m\u001b[0;34m]\u001b[0m\u001b[0;34m\u001b[0m\u001b[0;34m\u001b[0m\u001b[0m\n\u001b[1;32m      3\u001b[0m                   \u001b[0;34m)\u001b[0m\u001b[0;34m.\u001b[0m\u001b[0mapply\u001b[0m\u001b[0;34m(\u001b[0m\u001b[0;32mlambda\u001b[0m \u001b[0mr\u001b[0m\u001b[0;34m:\u001b[0m \u001b[0mr\u001b[0m\u001b[0;34m/\u001b[0m\u001b[0mr\u001b[0m\u001b[0;34m.\u001b[0m\u001b[0msum\u001b[0m\u001b[0;34m(\u001b[0m\u001b[0;34m)\u001b[0m \u001b[0;34m*\u001b[0m\u001b[0;36m100\u001b[0m\u001b[0;34m,\u001b[0m\u001b[0;34m\u001b[0m\u001b[0;34m\u001b[0m\u001b[0m\n\u001b[1;32m      4\u001b[0m                           axis=0).plot(kind='bar', stacked=True, color=['#dede00', '#e41a1c', '#999999'])\n",
            "\u001b[0;32m/usr/local/lib/python3.7/dist-packages/pandas/core/frame.py\u001b[0m in \u001b[0;36m__getitem__\u001b[0;34m(self, key)\u001b[0m\n\u001b[1;32m   3456\u001b[0m             \u001b[0;32mif\u001b[0m \u001b[0mself\u001b[0m\u001b[0;34m.\u001b[0m\u001b[0mcolumns\u001b[0m\u001b[0;34m.\u001b[0m\u001b[0mnlevels\u001b[0m \u001b[0;34m>\u001b[0m \u001b[0;36m1\u001b[0m\u001b[0;34m:\u001b[0m\u001b[0;34m\u001b[0m\u001b[0;34m\u001b[0m\u001b[0m\n\u001b[1;32m   3457\u001b[0m                 \u001b[0;32mreturn\u001b[0m \u001b[0mself\u001b[0m\u001b[0;34m.\u001b[0m\u001b[0m_getitem_multilevel\u001b[0m\u001b[0;34m(\u001b[0m\u001b[0mkey\u001b[0m\u001b[0;34m)\u001b[0m\u001b[0;34m\u001b[0m\u001b[0;34m\u001b[0m\u001b[0m\n\u001b[0;32m-> 3458\u001b[0;31m             \u001b[0mindexer\u001b[0m \u001b[0;34m=\u001b[0m \u001b[0mself\u001b[0m\u001b[0;34m.\u001b[0m\u001b[0mcolumns\u001b[0m\u001b[0;34m.\u001b[0m\u001b[0mget_loc\u001b[0m\u001b[0;34m(\u001b[0m\u001b[0mkey\u001b[0m\u001b[0;34m)\u001b[0m\u001b[0;34m\u001b[0m\u001b[0;34m\u001b[0m\u001b[0m\n\u001b[0m\u001b[1;32m   3459\u001b[0m             \u001b[0;32mif\u001b[0m \u001b[0mis_integer\u001b[0m\u001b[0;34m(\u001b[0m\u001b[0mindexer\u001b[0m\u001b[0;34m)\u001b[0m\u001b[0;34m:\u001b[0m\u001b[0;34m\u001b[0m\u001b[0;34m\u001b[0m\u001b[0m\n\u001b[1;32m   3460\u001b[0m                 \u001b[0mindexer\u001b[0m \u001b[0;34m=\u001b[0m \u001b[0;34m[\u001b[0m\u001b[0mindexer\u001b[0m\u001b[0;34m]\u001b[0m\u001b[0;34m\u001b[0m\u001b[0;34m\u001b[0m\u001b[0m\n",
            "\u001b[0;32m/usr/local/lib/python3.7/dist-packages/pandas/core/indexes/base.py\u001b[0m in \u001b[0;36mget_loc\u001b[0;34m(self, key, method, tolerance)\u001b[0m\n\u001b[1;32m   3361\u001b[0m                 \u001b[0;32mreturn\u001b[0m \u001b[0mself\u001b[0m\u001b[0;34m.\u001b[0m\u001b[0m_engine\u001b[0m\u001b[0;34m.\u001b[0m\u001b[0mget_loc\u001b[0m\u001b[0;34m(\u001b[0m\u001b[0mcasted_key\u001b[0m\u001b[0;34m)\u001b[0m\u001b[0;34m\u001b[0m\u001b[0;34m\u001b[0m\u001b[0m\n\u001b[1;32m   3362\u001b[0m             \u001b[0;32mexcept\u001b[0m \u001b[0mKeyError\u001b[0m \u001b[0;32mas\u001b[0m \u001b[0merr\u001b[0m\u001b[0;34m:\u001b[0m\u001b[0;34m\u001b[0m\u001b[0;34m\u001b[0m\u001b[0m\n\u001b[0;32m-> 3363\u001b[0;31m                 \u001b[0;32mraise\u001b[0m \u001b[0mKeyError\u001b[0m\u001b[0;34m(\u001b[0m\u001b[0mkey\u001b[0m\u001b[0;34m)\u001b[0m \u001b[0;32mfrom\u001b[0m \u001b[0merr\u001b[0m\u001b[0;34m\u001b[0m\u001b[0;34m\u001b[0m\u001b[0m\n\u001b[0m\u001b[1;32m   3364\u001b[0m \u001b[0;34m\u001b[0m\u001b[0m\n\u001b[1;32m   3365\u001b[0m         \u001b[0;32mif\u001b[0m \u001b[0mis_scalar\u001b[0m\u001b[0;34m(\u001b[0m\u001b[0mkey\u001b[0m\u001b[0;34m)\u001b[0m \u001b[0;32mand\u001b[0m \u001b[0misna\u001b[0m\u001b[0;34m(\u001b[0m\u001b[0mkey\u001b[0m\u001b[0;34m)\u001b[0m \u001b[0;32mand\u001b[0m \u001b[0;32mnot\u001b[0m \u001b[0mself\u001b[0m\u001b[0;34m.\u001b[0m\u001b[0mhasnans\u001b[0m\u001b[0;34m:\u001b[0m\u001b[0;34m\u001b[0m\u001b[0;34m\u001b[0m\u001b[0m\n",
            "\u001b[0;31mKeyError\u001b[0m: 'Month'"
          ]
        }
      ],
      "source": [
        "plot = pd.crosstab(index=df_train['Month'],\n",
        "            columns=df_train[\"Credit_Score\"]\n",
        "                  ).apply(lambda r: r/r.sum() *100,\n",
        "                          axis=0).plot(kind='bar', stacked=True, color=['#dede00', '#e41a1c', '#999999'])\n"
      ]
    },
    {
      "cell_type": "markdown",
      "source": [
        "Podemos ver cómo el mes no influye casi nada, los valores están prácticamente igual repartidos."
      ],
      "metadata": {
        "id": "dD_D7bqCoIFo"
      }
    },
    {
      "cell_type": "markdown",
      "source": [
        "### Name\n",
        "Esta variable la vamos a borrar, ya que tiene bastantes menos valores que el Customer_ID y ello puede dar problemas para el tratamiento posterior. Además no nos aporta nada."
      ],
      "metadata": {
        "id": "lFRrcMm3n-x0"
      }
    },
    {
      "cell_type": "markdown",
      "source": [
        "### Age"
      ],
      "metadata": {
        "id": "gs9kAtBnoLdV"
      }
    },
    {
      "cell_type": "code",
      "execution_count": null,
      "metadata": {
        "colab": {
          "base_uri": "https://localhost:8080/",
          "height": 292
        },
        "id": "2c1_aaXdjiPb",
        "outputId": "ff93267a-004d-411d-fe97-4a9d85680812"
      },
      "outputs": [
        {
          "data": {
            "image/png": "[encoded data removed]",
            "text/plain": [
              "<Figure size 432x288 with 1 Axes>"
            ]
          },
          "metadata": {},
          "output_type": "display_data"
        }
      ],
      "source": [
        "plot = pd.crosstab(index=df_train['Age'],\n",
        "            columns=df_train[\"Credit_Score\"]\n",
        "                  ).apply(lambda r: r/r.sum() *100,\n",
        "                          axis=0).plot(kind='bar', stacked=True, color=['#dede00', '#e41a1c', '#999999'])"
      ]
    },
    {
      "cell_type": "markdown",
      "source": [
        "Clasificamos la edad en tres grupos (va desde los 14 años hasta los 59)  <br>      -juventud (14 - 26)           \n",
        "-adultez (27 - 40)          \n",
        "-otro (41 - 59)"
      ],
      "metadata": {
        "id": "mdVY5DL7oO8b"
      }
    },
    {
      "cell_type": "markdown",
      "source": [],
      "metadata": {
        "id": "Cq4M6gpvohcT"
      }
    },
    {
      "cell_type": "markdown",
      "source": [
        "### SSN"
      ],
      "metadata": {
        "id": "AUdM_J0koka0"
      }
    },
    {
      "cell_type": "code",
      "execution_count": 84,
      "metadata": {
        "colab": {
          "base_uri": "https://localhost:8080/"
        },
        "id": "pL-Q34A0jy9D",
        "outputId": "85a8e7b7-59ac-4151-b9d0-feb27905bdda"
      },
      "outputs": [
        {
          "output_type": "stream",
          "name": "stdout",
          "text": [
            "True\n"
          ]
        }
      ],
      "source": [
        "print(df_train.Customer_ID.nunique() == df_train.SSN.nunique())"
      ]
    },
    {
      "cell_type": "markdown",
      "source": [
        "Ambos devuelven tienen el mismo numero, por lo que se entiende que cada SSN va ligado a un mismo cliente. No aporta información."
      ],
      "metadata": {
        "id": "oXSHcbGloncr"
      }
    },
    {
      "cell_type": "markdown",
      "source": [
        "### Occupation\n"
      ],
      "metadata": {
        "id": "BvKeIXG3o-Ee"
      }
    },
    {
      "cell_type": "code",
      "execution_count": null,
      "metadata": {
        "colab": {
          "base_uri": "https://localhost:8080/",
          "height": 348
        },
        "id": "hiB91SyUkJy0",
        "outputId": "2f95d3ce-73f1-4ed0-cb73-67bebc2e6432"
      },
      "outputs": [
        {
          "data": {
            "image/png": "[encoded data removed]",
            "text/plain": [
              "<Figure size 432x288 with 1 Axes>"
            ]
          },
          "metadata": {},
          "output_type": "display_data"
        }
      ],
      "source": [
        "output = pd.crosstab(df_train[\"Credit_Score\"], df_train[\"Occupation\"])\n",
        "output\n",
        "\n",
        "plot = pd.crosstab(index=df_train['Occupation'],\n",
        "            columns=df_train[\"Credit_Score\"]\n",
        "                  ).apply(lambda r: r/r.sum() *100,\n",
        "                          axis=0).plot(kind='bar', stacked=True, color=['#dede00', '#e41a1c', '#999999'])"
      ]
    },
    {
      "cell_type": "markdown",
      "source": [
        "Es bastante estable en todos los campos, aporta poca información."
      ],
      "metadata": {
        "id": "ecXApCy5pBxb"
      }
    },
    {
      "cell_type": "markdown",
      "source": [
        "### Annual_Income"
      ],
      "metadata": {
        "id": "0wIQyJoJpL1a"
      }
    },
    {
      "cell_type": "code",
      "execution_count": null,
      "metadata": {
        "colab": {
          "base_uri": "https://localhost:8080/",
          "height": 317
        },
        "id": "kolvVtghm4Vh",
        "outputId": "6d74877e-0092-44a0-f504-5583262d731c"
      },
      "outputs": [
        {
          "data": {
            "image/png": "[encoded data removed]",
            "text/plain": [
              "<Figure size 432x288 with 1 Axes>"
            ]
          },
          "metadata": {},
          "output_type": "display_data"
        }
      ],
      "source": [
        "plot = pd.crosstab(index=df_train['Annual_Income'],\n",
        "            columns=df_train[\"Credit_Score\"]\n",
        "                  ).apply(lambda r: r/r.sum() *100,\n",
        "                          axis=0).plot(kind='bar', stacked=True, color=['#dede00', '#e41a1c', '#999999'])"
      ]
    },
    {
      "cell_type": "markdown",
      "source": [
        "Parece seguir una distribución gamma, por lo que conviene mantener el valor discreto, mayormente por la disparidad, ya que en caso contrario se perdería información."
      ],
      "metadata": {
        "id": "yuem4VynqF8q"
      }
    },
    {
      "cell_type": "markdown",
      "source": [
        "### Monthly_Inhand_Salary\n",
        "Aquí haremos lo mismo que en los ingresos anuales, pero redonderaremos a 1000 "
      ],
      "metadata": {
        "id": "FwYq9JthqOzg"
      }
    },
    {
      "cell_type": "code",
      "execution_count": null,
      "metadata": {
        "colab": {
          "base_uri": "https://localhost:8080/",
          "height": 311
        },
        "id": "BqEx31d8n2Tl",
        "outputId": "7f02444b-6c58-444d-a936-bcf9493e7306"
      },
      "outputs": [
        {
          "data": {
            "image/png": "[encoded data removed]",
            "text/plain": [
              "<Figure size 432x288 with 1 Axes>"
            ]
          },
          "metadata": {},
          "output_type": "display_data"
        }
      ],
      "source": [
        "plot = pd.crosstab(index=df_train['Monthly_Inhand_Salary'],\n",
        "            columns=df_train[\"Credit_Score\"]\n",
        "                  ).apply(lambda r: r/r.sum() *100,\n",
        "                          axis=0).plot(kind='bar', stacked=True, color=['#dede00', '#e41a1c', '#999999'])\n",
        "\n"
      ]
    },
    {
      "cell_type": "markdown",
      "source": [
        "Se obtienen resultados muy similares a la columna anterior."
      ],
      "metadata": {
        "id": "ggCk4pWWqVf8"
      }
    },
    {
      "cell_type": "markdown",
      "source": [
        "### Num_Bank_Accounts"
      ],
      "metadata": {
        "id": "hTfs9tRmqZIz"
      }
    },
    {
      "cell_type": "code",
      "execution_count": null,
      "metadata": {
        "colab": {
          "base_uri": "https://localhost:8080/",
          "height": 292
        },
        "id": "6vvG7V0voP4R",
        "outputId": "b08d0d8b-21f1-42cf-957b-cba52b9b0df8"
      },
      "outputs": [
        {
          "data": {
            "image/png": "[encoded data removed]",
            "text/plain": [
              "<Figure size 432x288 with 1 Axes>"
            ]
          },
          "metadata": {},
          "output_type": "display_data"
        }
      ],
      "source": [
        "plot = pd.crosstab(index=df_train['Num_Bank_Accounts'],\n",
        "            columns=df_train[\"Credit_Score\"]\n",
        "                  ).apply(lambda r: r/r.sum() *100,\n",
        "                          axis=0).plot(kind='bar', stacked=True, color=['#dede00', '#e41a1c', '#999999'])"
      ]
    },
    {
      "cell_type": "markdown",
      "source": [
        "Podemos observar que existe una relación alta entre los casos con un número alto de cuentas bancarias y un Credit_Score peor. Los valores se distribuyen uniformemente entre 0-2, 3-5, 6-8 y 9-10."
      ],
      "metadata": {
        "id": "Hlji7zSTqccQ"
      }
    },
    {
      "cell_type": "markdown",
      "source": [
        "### Num_Credit_Card\n"
      ],
      "metadata": {
        "id": "pTHCc5N_qn0b"
      }
    },
    {
      "cell_type": "code",
      "execution_count": null,
      "metadata": {
        "colab": {
          "base_uri": "https://localhost:8080/",
          "height": 295
        },
        "id": "uJTbtnUFo1TN",
        "outputId": "c55a115d-a930-422b-9afb-eb123de4ce9f"
      },
      "outputs": [
        {
          "data": {
            "image/png": "[encoded data removed]",
            "text/plain": [
              "<Figure size 432x288 with 1 Axes>"
            ]
          },
          "metadata": {},
          "output_type": "display_data"
        }
      ],
      "source": [
        "plot = pd.crosstab(index=df_train['Num_Credit_Card'],\n",
        "            columns=df_train[\"Credit_Score\"]\n",
        "                  ).apply(lambda r: r/r.sum() *100,\n",
        "                          axis=0).plot(kind='bar', stacked=True, color=['#dede00', '#e41a1c', '#999999'])"
      ]
    },
    {
      "cell_type": "markdown",
      "source": [
        "Tiene una forma y distribución muy similares a la anterior, en los \"rangos\" 0-2, 3-4, 5-7 y 8-10. Su alta correlación con la columna anterior explica el parecido."
      ],
      "metadata": {
        "id": "a_qeVtHkqrY2"
      }
    },
    {
      "cell_type": "markdown",
      "source": [
        "### Interest_Rate"
      ],
      "metadata": {
        "id": "m7Aqw9xDrPRh"
      }
    },
    {
      "cell_type": "code",
      "execution_count": 86,
      "metadata": {
        "colab": {
          "base_uri": "https://localhost:8080/",
          "height": 292
        },
        "id": "RccdyL0HpPyy",
        "outputId": "f2794f86-6a60-4383-e73c-634e84107032"
      },
      "outputs": [
        {
          "output_type": "display_data",
          "data": {
            "text/plain": [
              "<Figure size 432x288 with 1 Axes>"
            ],
            "image/png": "[encoded data removed]"
          },
          "metadata": {
            "needs_background": "light"
          }
        }
      ],
      "source": [
        "plot = pd.crosstab(index=df_train['Interest_Rate'],\n",
        "            columns=df_train[\"Credit_Score\"]\n",
        "                  ).apply(lambda r: r/r.sum() *100,\n",
        "                          axis=0).plot(kind='bar', stacked=True, color=['#dede00', '#e41a1c', '#999999'])"
      ]
    },
    {
      "cell_type": "markdown",
      "source": [
        "Parece que más interés, más pobre 5 grupos claros. 1-4 5-12 13-14 15-20 21-34"
      ],
      "metadata": {
        "id": "HWNtv39yrSGT"
      }
    },
    {
      "cell_type": "markdown",
      "source": [
        "### Num_of_Loan"
      ],
      "metadata": {
        "id": "Q9pXyKSjsAUs"
      }
    },
    {
      "cell_type": "code",
      "execution_count": 87,
      "metadata": {
        "colab": {
          "base_uri": "https://localhost:8080/",
          "height": 286
        },
        "id": "V3669VN0p7Mm",
        "outputId": "ba68aef9-35ec-445e-c85f-36978f90443a"
      },
      "outputs": [
        {
          "output_type": "display_data",
          "data": {
            "text/plain": [
              "<Figure size 432x288 with 1 Axes>"
            ],
            "image/png": "[encoded data removed]"
          },
          "metadata": {
            "needs_background": "light"
          }
        }
      ],
      "source": [
        "plot = pd.crosstab(index=df_train['Num_of_Loan'],\n",
        "            columns=df_train[\"Credit_Score\"]\n",
        "                  ).apply(lambda r: r/r.sum() *100,\n",
        "                          axis=0).plot(kind='bar', stacked=True, color=['#dede00', '#e41a1c', '#999999'])"
      ]
    },
    {
      "cell_type": "markdown",
      "source": [
        "Parece que se distribuye de manera uniforme, solo que a más préstamos activos, más pobre es la puntuación. En este caso podría dividirse, más o menos, en grupos 0-1, 2-4 y 5-9."
      ],
      "metadata": {
        "id": "NsBVVU4ssCys"
      }
    },
    {
      "cell_type": "markdown",
      "source": [
        "### Delay_from_due_date\n",
        "Número medio de días de retraso en el pago\n"
      ],
      "metadata": {
        "id": "pG88NmHtrdXs"
      }
    },
    {
      "cell_type": "code",
      "execution_count": null,
      "metadata": {
        "colab": {
          "base_uri": "https://localhost:8080/",
          "height": 292
        },
        "id": "ekA3Kxw0p4he",
        "outputId": "5f025535-4545-49b8-c8b1-43311622e4be"
      },
      "outputs": [
        {
          "data": {
            "image/png": "[encoded data removed]",
            "text/plain": [
              "<Figure size 432x288 with 1 Axes>"
            ]
          },
          "metadata": {},
          "output_type": "display_data"
        }
      ],
      "source": [
        "plot = pd.crosstab(index=df_train['Delay_from_due_date'],\n",
        "            columns=df_train[\"Credit_Score\"]\n",
        "                  ).apply(lambda r: r/r.sum() *100,\n",
        "                          axis=0).plot(kind='bar', stacked=True, color=['#dede00', '#e41a1c', '#999999'])"
      ]
    },
    {
      "cell_type": "markdown",
      "source": [
        "Podría separarse en 4 grupos. Se han realizado pruebas separando en 4 grupos y calculando el tiempo en meses (división entre 30 y redondear) con resultados poco favorables, ya que se produce pérdida de información."
      ],
      "metadata": {
        "id": "Y7w0uuPCsXEV"
      }
    },
    {
      "cell_type": "markdown",
      "source": [
        "### Num_of_Delayed_Payment\n",
        "Número medio de pagos atrasados del cliente"
      ],
      "metadata": {
        "id": "u_NXupf-sjp5"
      }
    },
    {
      "cell_type": "code",
      "execution_count": 88,
      "metadata": {
        "colab": {
          "base_uri": "https://localhost:8080/",
          "height": 292
        },
        "id": "B6dU-zjkq8H7",
        "outputId": "0b2343fd-fc02-4412-8d8e-52573be4b741"
      },
      "outputs": [
        {
          "output_type": "display_data",
          "data": {
            "text/plain": [
              "<Figure size 432x288 with 1 Axes>"
            ],
            "image/png": "[encoded data removed]"
          },
          "metadata": {
            "needs_background": "light"
          }
        }
      ],
      "source": [
        "plot = pd.crosstab(index=df_train['Num_of_Delayed_Payment'],\n",
        "            columns=df_train[\"Credit_Score\"]\n",
        "                  ).apply(lambda r: r/r.sum() *100,\n",
        "                          axis=0).plot(kind='bar', stacked=True, color=['#dede00', '#e41a1c', '#999999'])"
      ]
    },
    {
      "cell_type": "markdown",
      "source": [
        "De forma similar a las anteriores, podría aproximarse a 4 grupos, 0-7, 8-14, 15-20, 21-25."
      ],
      "metadata": {
        "id": "CaXpcP_WsmCo"
      }
    },
    {
      "cell_type": "markdown",
      "source": [
        "### Changed_Credit_Limit\n",
        "Porcentaje de cambio en los límites de gasto del cliente"
      ],
      "metadata": {
        "id": "CXr9aZ80szLw"
      }
    },
    {
      "cell_type": "code",
      "execution_count": null,
      "metadata": {
        "colab": {
          "base_uri": "https://localhost:8080/",
          "height": 292
        },
        "id": "OyN07-M3sBza",
        "outputId": "38308cd2-1c20-44d3-8436-acb844b7592f"
      },
      "outputs": [
        {
          "data": {
            "image/png": "[encoded data removed]",
            "text/plain": [
              "<Figure size 432x288 with 1 Axes>"
            ]
          },
          "metadata": {},
          "output_type": "display_data"
        }
      ],
      "source": [
        "plot = pd.crosstab(index=df_train['Changed_Credit_Limit'],\n",
        "            columns=df_train[\"Credit_Score\"]\n",
        "                  ).apply(lambda r: r/r.sum() *100,\n",
        "                          axis=0).plot(kind='bar', stacked=True, color=['#dede00', '#e41a1c', '#999999'])"
      ]
    },
    {
      "cell_type": "markdown",
      "source": [
        "No varía mucho, pero parece ser que a menor porcentaje más probable que resulte en \"Good\"."
      ],
      "metadata": {
        "id": "mepApnLns2oJ"
      }
    },
    {
      "cell_type": "markdown",
      "source": [
        "### Num_Credit_Inquiries\n",
        "Número de consultas sobre tarjetas de crédito realizadas por el cliente.\n"
      ],
      "metadata": {
        "id": "q4ZT83_zs-Gf"
      }
    },
    {
      "cell_type": "code",
      "execution_count": null,
      "metadata": {
        "colab": {
          "base_uri": "https://localhost:8080/",
          "height": 292
        },
        "id": "AtaVYM-9sx5j",
        "outputId": "e821a4b7-2b0a-4174-9188-288b697d2551"
      },
      "outputs": [
        {
          "data": {
            "image/png": "[encoded data removed]",
            "text/plain": [
              "<Figure size 432x288 with 1 Axes>"
            ]
          },
          "metadata": {},
          "output_type": "display_data"
        }
      ],
      "source": [
        "plot = pd.crosstab(index=df_train['Num_Credit_Inquiries'],\n",
        "            columns=df_train[\"Credit_Score\"]\n",
        "                  ).apply(lambda r: r/r.sum() *100,\n",
        "                          axis=0).plot(kind='bar', stacked=True, color=['#dede00', '#e41a1c', '#999999'])"
      ]
    },
    {
      "cell_type": "markdown",
      "source": [
        "Puede ser útil mantenerla como valores continuos."
      ],
      "metadata": {
        "id": "HPelvN6DtA2Q"
      }
    },
    {
      "cell_type": "markdown",
      "source": [
        "### Credit_Mix"
      ],
      "metadata": {
        "id": "pEDFcG-0tTT3"
      }
    },
    {
      "cell_type": "code",
      "execution_count": null,
      "metadata": {
        "colab": {
          "base_uri": "https://localhost:8080/",
          "height": 316
        },
        "id": "yVxvRasOtFwB",
        "outputId": "87968f29-1a8a-490e-ee25-91f6f77e628f"
      },
      "outputs": [
        {
          "data": {
            "image/png": "[encoded data removed]",
            "text/plain": [
              "<Figure size 432x288 with 1 Axes>"
            ]
          },
          "metadata": {},
          "output_type": "display_data"
        }
      ],
      "source": [
        "plot = pd.crosstab(index=df_train['Credit_Mix'],\n",
        "            columns=df_train[\"Credit_Score\"]\n",
        "                  ).apply(lambda r: r/r.sum() *100,\n",
        "                          axis=0).plot(kind='bar', stacked=True, color=['#dede00', '#e41a1c', '#999999'])"
      ]
    },
    {
      "cell_type": "markdown",
      "source": [
        "Cuanto más \"good\" es, más probable recibir \"good\" de puntuación crediticia."
      ],
      "metadata": {
        "id": "bHtGd5GgtVm0"
      }
    },
    {
      "cell_type": "markdown",
      "source": [
        "### Outstanding_Debt\n",
        "Deuda en dólares"
      ],
      "metadata": {
        "id": "e7gIRfAOta4j"
      }
    },
    {
      "cell_type": "code",
      "execution_count": null,
      "metadata": {
        "colab": {
          "base_uri": "https://localhost:8080/",
          "height": 305
        },
        "id": "t3qakalRuB-S",
        "outputId": "f01d168c-e485-4869-d2fb-d0c75ebc304d"
      },
      "outputs": [
        {
          "data": {
            "image/png": "[encoded data removed]",
            "text/plain": [
              "<Figure size 432x288 with 1 Axes>"
            ]
          },
          "metadata": {},
          "output_type": "display_data"
        }
      ],
      "source": [
        "plot = pd.crosstab(index=df_train['Outstanding_Debt'],\n",
        "            columns=df_train[\"Credit_Score\"]\n",
        "                  ).apply(lambda r: r/r.sum() *100,\n",
        "                          axis=0).plot(kind='bar', stacked=True, color=['#dede00', '#e41a1c', '#999999'])"
      ]
    },
    {
      "cell_type": "markdown",
      "source": [
        "A partir de la deuda de 1600 dólares, todos tienen un resultado muy pobre. Se ha probado a concentrar en un solo grupo las deudas de más de 1600 dólares, pero se pierde precisión por una ligera pérdida de información."
      ],
      "metadata": {
        "id": "nDRaMGIjtdnh"
      }
    },
    {
      "cell_type": "markdown",
      "source": [
        "### Credit_Utilization_Ratio\n",
        "Tasa de utilización del préstamo"
      ],
      "metadata": {
        "id": "ktBjCMwNtl7g"
      }
    },
    {
      "cell_type": "code",
      "execution_count": null,
      "metadata": {
        "colab": {
          "base_uri": "https://localhost:8080/",
          "height": 293
        },
        "id": "JRVKEyYgwvCa",
        "outputId": "ce42fabe-758a-4c35-cb0f-a4fe94ac2bbc"
      },
      "outputs": [
        {
          "data": {
            "image/png": "[encoded data removed]",
            "text/plain": [
              "<Figure size 432x288 with 1 Axes>"
            ]
          },
          "metadata": {},
          "output_type": "display_data"
        }
      ],
      "source": [
        "plot = pd.crosstab(index=df_train['Credit_Utilization_Ratio'],\n",
        "            columns=df_train[\"Credit_Score\"]\n",
        "                  ).apply(lambda r: r/r.sum() *100,\n",
        "                          axis=0).plot(kind='bar', stacked=True, color=['#dede00', '#e41a1c', '#999999'])"
      ]
    },
    {
      "cell_type": "markdown",
      "source": [
        "Parece una distribución normal, puede ser interesante mantenerlo como valores continuos."
      ],
      "metadata": {
        "id": "E0PxeT4ftsMx"
      }
    },
    {
      "cell_type": "markdown",
      "source": [
        "### Credit_History_Age\n",
        "Antigüedad del historial de crédito.\n"
      ],
      "metadata": {
        "id": "5lfZOwV3twIr"
      }
    },
    {
      "cell_type": "code",
      "execution_count": null,
      "metadata": {
        "colab": {
          "base_uri": "https://localhost:8080/",
          "height": 299
        },
        "id": "h6NNKpbtykew",
        "outputId": "de981b2d-a724-41e7-d557-72c0f602144c"
      },
      "outputs": [
        {
          "data": {
            "image/png": "[encoded data removed]",
            "text/plain": [
              "<Figure size 432x288 with 1 Axes>"
            ]
          },
          "metadata": {},
          "output_type": "display_data"
        }
      ],
      "source": [
        "plot = pd.crosstab(index=df_train['Credit_History_Age'],\n",
        "            columns=df_train[\"Credit_Score\"]\n",
        "                  ).apply(lambda r: r/r.sum() *100,\n",
        "                          axis=0).plot(kind='bar', stacked=True, color=['#dede00', '#e41a1c', '#999999'])"
      ]
    },
    {
      "cell_type": "markdown",
      "source": [
        "También interesa mantenerla continua por la alta cantidad de información que proporciona."
      ],
      "metadata": {
        "id": "P7o0f3GfxBQf"
      }
    },
    {
      "cell_type": "markdown",
      "source": [
        "### Payment_of_Min_Amount\n",
        "Representa si la persona sólo ha pagado el importe mínimo."
      ],
      "metadata": {
        "id": "WgyhDKfkxFfB"
      }
    },
    {
      "cell_type": "code",
      "execution_count": null,
      "metadata": {
        "colab": {
          "base_uri": "https://localhost:8080/",
          "height": 286
        },
        "id": "YqYJL3P2zLYn",
        "outputId": "b2118f41-3d3a-42e5-86df-fb597864fab1"
      },
      "outputs": [
        {
          "data": {
            "image/png": "[encoded data removed]",
            "text/plain": [
              "<Figure size 432x288 with 1 Axes>"
            ]
          },
          "metadata": {},
          "output_type": "display_data"
        }
      ],
      "source": [
        "plot = pd.crosstab(index=df_train['Payment_of_Min_Amount'],\n",
        "            columns=df_train[\"Credit_Score\"]\n",
        "                  ).apply(lambda r: r/r.sum() *100,\n",
        "                          axis=0).plot(kind='bar', stacked=True, color=['#dede00', '#e41a1c', '#999999'])        "
      ]
    },
    {
      "cell_type": "markdown",
      "source": [
        "Variable categórica."
      ],
      "metadata": {
        "id": "Whk-UWG2xJBZ"
      }
    },
    {
      "cell_type": "markdown",
      "source": [
        "### Total_EMI_per_month"
      ],
      "metadata": {
        "id": "mHq4nerOx62A"
      }
    },
    {
      "cell_type": "code",
      "execution_count": null,
      "metadata": {
        "colab": {
          "base_uri": "https://localhost:8080/",
          "height": 305
        },
        "id": "OfZHbPG7zqfH",
        "outputId": "4470b1c4-5cbd-4ee3-af4e-93c83084f978"
      },
      "outputs": [
        {
          "data": {
            "image/png": "[encoded data removed]",
            "text/plain": [
              "<Figure size 432x288 with 1 Axes>"
            ]
          },
          "metadata": {},
          "output_type": "display_data"
        }
      ],
      "source": [
        "plot = pd.crosstab(index=df_train['Total_EMI_per_month'],\n",
        "            columns=df_train[\"Credit_Score\"]\n",
        "                  ).apply(lambda r: r/r.sum() *100,\n",
        "                          axis=0).plot(kind='bar', stacked=True, color=['#dede00', '#e41a1c', '#999999'])"
      ]
    },
    {
      "cell_type": "markdown",
      "source": [
        "### Amount_invested_monthly\n",
        "Inversión mensual"
      ],
      "metadata": {
        "id": "YjVTSXLAyWML"
      }
    },
    {
      "cell_type": "code",
      "execution_count": null,
      "metadata": {
        "colab": {
          "base_uri": "https://localhost:8080/",
          "height": 299
        },
        "id": "tKPMSCjh0eUf",
        "outputId": "2575503c-6199-4b28-e892-990b80f6a982"
      },
      "outputs": [
        {
          "data": {
            "image/png": "[encoded data removed]",
            "text/plain": [
              "<Figure size 432x288 with 1 Axes>"
            ]
          },
          "metadata": {},
          "output_type": "display_data"
        }
      ],
      "source": [
        "plot = pd.crosstab(index=df_train['Amount_invested_monthly'],\n",
        "            columns=df_train[\"Credit_Score\"]\n",
        "                  ).apply(lambda r: r/r.sum() *100,\n",
        "                          axis=0).plot(kind='bar', stacked=True, color=['#dede00', '#e41a1c', '#999999'])"
      ]
    },
    {
      "cell_type": "markdown",
      "source": [
        "Parece que a menor cantidad invertida, más pobre es la puntuación. Se mantiene continua también por la misma razón que la anterior."
      ],
      "metadata": {
        "id": "fpTMAH3tyYo5"
      }
    },
    {
      "cell_type": "markdown",
      "source": [
        "### Payment_Behaviour\n",
        "Comportamiento del pago\n",
        "\n"
      ],
      "metadata": {
        "id": "LZsW-hxtyet1"
      }
    },
    {
      "cell_type": "code",
      "execution_count": null,
      "metadata": {
        "colab": {
          "base_uri": "https://localhost:8080/",
          "height": 458
        },
        "id": "j2FTbvKs0gq9",
        "outputId": "26b0912c-8cfd-42c7-9478-16335379c9a1"
      },
      "outputs": [
        {
          "data": {
            "image/png": "[encoded data removed]",
            "text/plain": [
              "<Figure size 432x288 with 1 Axes>"
            ]
          },
          "metadata": {},
          "output_type": "display_data"
        }
      ],
      "source": [
        "plot = pd.crosstab(index=df_train['Payment_Behaviour'],\n",
        "            columns=df_train[\"Credit_Score\"]\n",
        "                  ).apply(lambda r: r/r.sum() *100,\n",
        "                          axis=0).plot(kind='bar', stacked=True, color=['#dede00', '#e41a1c', '#999999'])"
      ]
    },
    {
      "cell_type": "markdown",
      "source": [
        "Sería interesante utilizar un OneHotEncoder aquí."
      ],
      "metadata": {
        "id": "xde5QBCvyv6W"
      }
    },
    {
      "cell_type": "markdown",
      "source": [
        "### Monthly_Balance\n",
        "Balance mensual"
      ],
      "metadata": {
        "id": "D4tRr8vzyy6-"
      }
    },
    {
      "cell_type": "code",
      "execution_count": null,
      "metadata": {
        "id": "Cw28JSHQ0wMM"
      },
      "outputs": [],
      "source": [
        "plot = pd.crosstab(index=df_train['Monthly_Balance'],\n",
        "            columns=df_train[\"Credit_Score\"]\n",
        "                  ).apply(lambda r: r/r.sum() *100,\n",
        "                          axis=0).plot(kind='bar', stacked=True, color=['#dede00', '#e41a1c', '#999999'])"
      ]
    },
    {
      "cell_type": "markdown",
      "source": [
        "A mayor balance, mayor puntuación. Conviene mantenerla continua también."
      ],
      "metadata": {
        "id": "2QiL5Tfiy1db"
      }
    },
    {
      "cell_type": "markdown",
      "metadata": {
        "id": "WBxnqdCst7ci"
      },
      "source": [
        "# Pre procesamiento"
      ]
    },
    {
      "cell_type": "markdown",
      "source": [
        "Se eliminan las columnas que no aportan información, distingubles a simple vista. Estas son columnas contienen valores identificadores."
      ],
      "metadata": {
        "id": "btDhwF-Vmdvo"
      }
    },
    {
      "cell_type": "code",
      "execution_count": 39,
      "metadata": {
        "id": "Q8nKCeyJt-6S"
      },
      "outputs": [],
      "source": [
        "df_train = df_train.drop('Month', axis=1)\n",
        "df_train = df_train.drop('Name', axis=1)\n",
        "df_train = df_train.drop('SSN', axis=1)\n",
        "df_train = df_train.drop('Occupation', axis=1)\n",
        "df_train = df_train.drop('ID', axis=1)\n",
        "df_train = df_train.drop('Customer_ID', axis=1)"
      ]
    },
    {
      "cell_type": "markdown",
      "source": [
        "Después de analizar la tabla de correlaciones obtenida anteriormente, se eliminan las columnas que tienen una correlación alta con otras, lo que significa que aportan poca información en conjunto. Dos columnas con alta correlación son sustituibles por una de ellas. Se ha considerado como alta la correlación a partir de 0.6."
      ],
      "metadata": {
        "id": "YvKEkB2cmtxR"
      }
    },
    {
      "cell_type": "code",
      "source": [
        "# Columnas innecesarias después de analizar la tabla de correlaciones\n",
        "\n",
        "df_train = df_train.drop('Credit_Utilization_Ratio', axis=1)\n",
        "df_train = df_train.drop('Total_EMI_per_month', axis=1)\n",
        "df_train = df_train.drop('Amount_invested_monthly', axis=1)\n",
        "#df_train = df_train.drop('Payment_Behaviour', axis=1)            # empeora un 0.002 con esto :(\n",
        "df_train = df_train.drop('Monthly_Balance', axis=1)\n",
        "df_train = df_train.drop('Monthly_Inhand_Salary', axis=1)\n",
        "df_train = df_train.drop('Age', axis=1)\n",
        "df_train = df_train.drop('Outstanding_Debt', axis=1)\n",
        "\n",
        "\n",
        "y = df_train['Credit_Score']\n",
        "\n",
        "\n",
        "df_train = df_train.drop('Credit_Score', axis=1)"
      ],
      "metadata": {
        "id": "zoGNp0xHa0Nc"
      },
      "execution_count": 40,
      "outputs": []
    },
    {
      "cell_type": "markdown",
      "source": [
        "La columna Type_Of_Loan va se procesa de forma diferente a las demás, convirtiéndose cada tipo de préstamo en una columna de valores numéricos."
      ],
      "metadata": {
        "id": "v-zNjih60KNf"
      }
    },
    {
      "cell_type": "code",
      "source": [
        "count_vectorizer = CountVectorizer(tokenizer = lambda x: re.sub(\", \", \",\", x).replace(\"and \", \"\").split(',')) \n",
        "data = count_vectorizer.fit_transform(df_train['Type_of_Loan'])\n",
        "print(count_vectorizer.get_feature_names_out())\n",
        "\n",
        "data_array = data.toarray()\n",
        "#data_array[data_array > 1] = 1\n",
        "\n",
        "df_train[count_vectorizer.get_feature_names_out()] = data_array\n",
        "\n",
        "df_train = df_train.drop('Type_of_Loan', axis=1)"
      ],
      "metadata": {
        "colab": {
          "base_uri": "https://localhost:8080/"
        },
        "id": "5BvQBJbj8w76",
        "outputId": "0d10c700-3d1a-46cb-c4c6-b3b6d044b6dd"
      },
      "execution_count": 41,
      "outputs": [
        {
          "output_type": "stream",
          "name": "stdout",
          "text": [
            "['auto loan' 'credit-builder loan' 'debt consolidation loan'\n",
            " 'home equity loan' 'mortgage loan' 'no data' 'not specified'\n",
            " 'payday loan' 'personal loan' 'student loan']\n"
          ]
        }
      ]
    },
    {
      "cell_type": "markdown",
      "source": [
        "Se discretizan las columnas Num_Bank_Accounts, Num_Credit_Card, Num_of_Loan, Num_of_Delayed_Payment dividiéndolas en grupos, ya que en las gráficas anteriores muestran con claridad grupos distinguibles. Las demás columnas se han mantenido como valores continuos con la finalidad de evitar la pérdida de información."
      ],
      "metadata": {
        "id": "AyuPHFlFkLzR"
      }
    },
    {
      "cell_type": "code",
      "execution_count": 42,
      "metadata": {
        "id": "Q63MmPT1Fm7z"
      },
      "outputs": [],
      "source": [
        "dos_categorias = [\"Bajo\", \"Alto\"]\n",
        "tres_categorias = [\"Bajo\", \"Medio\", \"Alto\"]\n",
        "cuatro_categorias = [\"Bajo\", \"Medio\", \"Alto\", \"Muy alto\"]\n",
        "cinco_categorias = [\"Muy bajo\", \"Bajo\", \"Medio\", \"Alto\", \"Muy alto\"]\n",
        "\n",
        "\n",
        "valores = [-math.inf, 2, 5, 8, math.inf]\n",
        "df_train[\"Num_Bank_Accounts\"] = pd.cut(x=df_train[\"Num_Bank_Accounts\"], bins=valores, labels=cuatro_categorias)\n",
        "\n",
        "valores = [-math.inf, 2, 4, 7, math.inf]\n",
        "df_train[\"Num_Credit_Card\"] = pd.cut(x=df_train[\"Num_Credit_Card\"], bins=valores, labels=cuatro_categorias)\n",
        "\n",
        "valores = [-math.inf, 4, math.inf]\n",
        "df_train[\"Num_of_Loan\"] = pd.cut(x=df_train[\"Num_of_Loan\"], bins=valores, labels=dos_categorias)\n",
        "\n",
        "valores = [-math.inf, 7, 14, 20, math.inf]\n",
        "df_train[\"Num_of_Delayed_Payment\"] = pd.cut(x=df_train[\"Num_of_Delayed_Payment\"], bins=valores, labels=cuatro_categorias)"
      ]
    },
    {
      "cell_type": "code",
      "execution_count": 43,
      "metadata": {
        "id": "96q3CAOMJeN7",
        "colab": {
          "base_uri": "https://localhost:8080/",
          "height": 522
        },
        "outputId": "6c3da4ae-4bad-4f2f-9533-d22e059e29f8"
      },
      "outputs": [
        {
          "output_type": "execute_result",
          "data": {
            "text/plain": [
              "       Annual_Income  Num_Bank_Accounts  Num_Credit_Card  Interest_Rate  \\\n",
              "0           0.522475           0.333333         0.666667       0.212121   \n",
              "1           0.140846           0.000000         1.000000       0.787879   \n",
              "2           0.133922           0.000000         0.000000       0.878788   \n",
              "3           0.035230           0.000000         0.000000       0.151515   \n",
              "4           0.319732           0.000000         0.333333       0.515152   \n",
              "...              ...                ...              ...            ...   \n",
              "79995       0.582464           0.666667         0.000000       0.242424   \n",
              "79996       0.053257           0.000000         0.000000       0.606061   \n",
              "79997       0.129314           0.666667         0.000000       0.151515   \n",
              "79998       0.212604           0.000000         1.000000       0.727273   \n",
              "79999       0.550404           0.333333         0.000000       0.272727   \n",
              "\n",
              "       Num_of_Loan  Delay_from_due_date  Num_of_Delayed_Payment  \\\n",
              "0              1.0             0.322581                0.666667   \n",
              "1              0.0             0.483871                1.000000   \n",
              "2              0.0             0.790323                0.000000   \n",
              "3              0.0             0.096774                0.000000   \n",
              "4              1.0             0.435484                0.666667   \n",
              "...            ...                  ...                     ...   \n",
              "79995          1.0             0.112903                0.000000   \n",
              "79996          0.0             0.709677                0.000000   \n",
              "79997          1.0             0.370968                0.666667   \n",
              "79998          0.0             0.516129                0.000000   \n",
              "79999          1.0             0.177419                0.666667   \n",
              "\n",
              "       Changed_Credit_Limit  Num_Credit_Inquiries  Credit_Mix  ...  auto loan  \\\n",
              "0                  0.000678              0.176471         0.5  ...       0.00   \n",
              "1                  0.651289              0.352941         0.0  ...       0.00   \n",
              "2                  0.779851              0.588235         0.0  ...       0.00   \n",
              "3                  0.343962              0.470588         1.0  ...       0.00   \n",
              "4                  0.417910              0.529412         1.0  ...       0.25   \n",
              "...                     ...                   ...         ...  ...        ...   \n",
              "79995              0.476934              0.176471         1.0  ...       0.00   \n",
              "79996              0.287653              0.352941         0.0  ...       0.00   \n",
              "79997              0.547829              0.411765         1.0  ...       0.00   \n",
              "79998              0.046811              0.705882         0.0  ...       0.25   \n",
              "79999              0.115332              0.470588         0.5  ...       0.00   \n",
              "\n",
              "       credit-builder loan  debt consolidation loan  home equity loan  \\\n",
              "0                     0.00                      0.2               0.0   \n",
              "1                     0.00                      0.0               0.2   \n",
              "2                     0.25                      0.0               0.4   \n",
              "3                     0.50                      0.2               0.2   \n",
              "4                     0.25                      0.0               0.0   \n",
              "...                    ...                      ...               ...   \n",
              "79995                 0.00                      0.0               0.0   \n",
              "79996                 0.50                      0.0               0.2   \n",
              "79997                 0.00                      0.0               0.0   \n",
              "79998                 0.25                      0.0               0.2   \n",
              "79999                 0.00                      0.0               0.0   \n",
              "\n",
              "       mortgage loan  no data  not specified  payday loan  personal loan  \\\n",
              "0                0.0      0.0           0.00          0.0           0.00   \n",
              "1                0.4      0.0           0.75          0.0           0.50   \n",
              "2                0.6      0.0           0.00          0.0           0.50   \n",
              "3                0.0      0.0           0.25          0.0           0.00   \n",
              "4                0.0      0.0           0.00          0.2           0.00   \n",
              "...              ...      ...            ...          ...            ...   \n",
              "79995            0.0      1.0           0.00          0.0           0.00   \n",
              "79996            0.2      0.0           0.00          0.0           0.25   \n",
              "79997            0.0      0.0           0.00          0.2           0.00   \n",
              "79998            0.0      0.0           0.50          0.4           0.25   \n",
              "79999            0.2      0.0           0.00          0.0           0.00   \n",
              "\n",
              "       student loan  \n",
              "0               0.0  \n",
              "1               0.0  \n",
              "2               0.2  \n",
              "3               0.0  \n",
              "4               0.2  \n",
              "...             ...  \n",
              "79995           0.0  \n",
              "79996           0.0  \n",
              "79997           0.2  \n",
              "79998           0.0  \n",
              "79999           0.0  \n",
              "\n",
              "[80000 rows x 23 columns]"
            ],
            "text/html": [
              "\n",
              "  <div id=\"df-04b1a83d-0c0f-41fa-b210-4d418ee193cc\">\n",
              "    <div class=\"colab-df-container\">\n",
              "      <div>\n",
              "<style scoped>\n",
              "    .dataframe tbody tr th:only-of-type {\n",
              "        vertical-align: middle;\n",
              "    }\n",
              "\n",
              "    .dataframe tbody tr th {\n",
              "        vertical-align: top;\n",
              "    }\n",
              "\n",
              "    .dataframe thead th {\n",
              "        text-align: right;\n",
              "    }\n",
              "</style>\n",
              "<table border=\"1\" class=\"dataframe\">\n",
              "  <thead>\n",
              "    <tr style=\"text-align: right;\">\n",
              "      <th></th>\n",
              "      <th>Annual_Income</th>\n",
              "      <th>Num_Bank_Accounts</th>\n",
              "      <th>Num_Credit_Card</th>\n",
              "      <th>Interest_Rate</th>\n",
              "      <th>Num_of_Loan</th>\n",
              "      <th>Delay_from_due_date</th>\n",
              "      <th>Num_of_Delayed_Payment</th>\n",
              "      <th>Changed_Credit_Limit</th>\n",
              "      <th>Num_Credit_Inquiries</th>\n",
              "      <th>Credit_Mix</th>\n",
              "      <th>...</th>\n",
              "      <th>auto loan</th>\n",
              "      <th>credit-builder loan</th>\n",
              "      <th>debt consolidation loan</th>\n",
              "      <th>home equity loan</th>\n",
              "      <th>mortgage loan</th>\n",
              "      <th>no data</th>\n",
              "      <th>not specified</th>\n",
              "      <th>payday loan</th>\n",
              "      <th>personal loan</th>\n",
              "      <th>student loan</th>\n",
              "    </tr>\n",
              "  </thead>\n",
              "  <tbody>\n",
              "    <tr>\n",
              "      <th>0</th>\n",
              "      <td>0.522475</td>\n",
              "      <td>0.333333</td>\n",
              "      <td>0.666667</td>\n",
              "      <td>0.212121</td>\n",
              "      <td>1.0</td>\n",
              "      <td>0.322581</td>\n",
              "      <td>0.666667</td>\n",
              "      <td>0.000678</td>\n",
              "      <td>0.176471</td>\n",
              "      <td>0.5</td>\n",
              "      <td>...</td>\n",
              "      <td>0.00</td>\n",
              "      <td>0.00</td>\n",
              "      <td>0.2</td>\n",
              "      <td>0.0</td>\n",
              "      <td>0.0</td>\n",
              "      <td>0.0</td>\n",
              "      <td>0.00</td>\n",
              "      <td>0.0</td>\n",
              "      <td>0.00</td>\n",
              "      <td>0.0</td>\n",
              "    </tr>\n",
              "    <tr>\n",
              "      <th>1</th>\n",
              "      <td>0.140846</td>\n",
              "      <td>0.000000</td>\n",
              "      <td>1.000000</td>\n",
              "      <td>0.787879</td>\n",
              "      <td>0.0</td>\n",
              "      <td>0.483871</td>\n",
              "      <td>1.000000</td>\n",
              "      <td>0.651289</td>\n",
              "      <td>0.352941</td>\n",
              "      <td>0.0</td>\n",
              "      <td>...</td>\n",
              "      <td>0.00</td>\n",
              "      <td>0.00</td>\n",
              "      <td>0.0</td>\n",
              "      <td>0.2</td>\n",
              "      <td>0.4</td>\n",
              "      <td>0.0</td>\n",
              "      <td>0.75</td>\n",
              "      <td>0.0</td>\n",
              "      <td>0.50</td>\n",
              "      <td>0.0</td>\n",
              "    </tr>\n",
              "    <tr>\n",
              "      <th>2</th>\n",
              "      <td>0.133922</td>\n",
              "      <td>0.000000</td>\n",
              "      <td>0.000000</td>\n",
              "      <td>0.878788</td>\n",
              "      <td>0.0</td>\n",
              "      <td>0.790323</td>\n",
              "      <td>0.000000</td>\n",
              "      <td>0.779851</td>\n",
              "      <td>0.588235</td>\n",
              "      <td>0.0</td>\n",
              "      <td>...</td>\n",
              "      <td>0.00</td>\n",
              "      <td>0.25</td>\n",
              "      <td>0.0</td>\n",
              "      <td>0.4</td>\n",
              "      <td>0.6</td>\n",
              "      <td>0.0</td>\n",
              "      <td>0.00</td>\n",
              "      <td>0.0</td>\n",
              "      <td>0.50</td>\n",
              "      <td>0.2</td>\n",
              "    </tr>\n",
              "    <tr>\n",
              "      <th>3</th>\n",
              "      <td>0.035230</td>\n",
              "      <td>0.000000</td>\n",
              "      <td>0.000000</td>\n",
              "      <td>0.151515</td>\n",
              "      <td>0.0</td>\n",
              "      <td>0.096774</td>\n",
              "      <td>0.000000</td>\n",
              "      <td>0.343962</td>\n",
              "      <td>0.470588</td>\n",
              "      <td>1.0</td>\n",
              "      <td>...</td>\n",
              "      <td>0.00</td>\n",
              "      <td>0.50</td>\n",
              "      <td>0.2</td>\n",
              "      <td>0.2</td>\n",
              "      <td>0.0</td>\n",
              "      <td>0.0</td>\n",
              "      <td>0.25</td>\n",
              "      <td>0.0</td>\n",
              "      <td>0.00</td>\n",
              "      <td>0.0</td>\n",
              "    </tr>\n",
              "    <tr>\n",
              "      <th>4</th>\n",
              "      <td>0.319732</td>\n",
              "      <td>0.000000</td>\n",
              "      <td>0.333333</td>\n",
              "      <td>0.515152</td>\n",
              "      <td>1.0</td>\n",
              "      <td>0.435484</td>\n",
              "      <td>0.666667</td>\n",
              "      <td>0.417910</td>\n",
              "      <td>0.529412</td>\n",
              "      <td>1.0</td>\n",
              "      <td>...</td>\n",
              "      <td>0.25</td>\n",
              "      <td>0.25</td>\n",
              "      <td>0.0</td>\n",
              "      <td>0.0</td>\n",
              "      <td>0.0</td>\n",
              "      <td>0.0</td>\n",
              "      <td>0.00</td>\n",
              "      <td>0.2</td>\n",
              "      <td>0.00</td>\n",
              "      <td>0.2</td>\n",
              "    </tr>\n",
              "    <tr>\n",
              "      <th>...</th>\n",
              "      <td>...</td>\n",
              "      <td>...</td>\n",
              "      <td>...</td>\n",
              "      <td>...</td>\n",
              "      <td>...</td>\n",
              "      <td>...</td>\n",
              "      <td>...</td>\n",
              "      <td>...</td>\n",
              "      <td>...</td>\n",
              "      <td>...</td>\n",
              "      <td>...</td>\n",
              "      <td>...</td>\n",
              "      <td>...</td>\n",
              "      <td>...</td>\n",
              "      <td>...</td>\n",
              "      <td>...</td>\n",
              "      <td>...</td>\n",
              "      <td>...</td>\n",
              "      <td>...</td>\n",
              "      <td>...</td>\n",
              "      <td>...</td>\n",
              "    </tr>\n",
              "    <tr>\n",
              "      <th>79995</th>\n",
              "      <td>0.582464</td>\n",
              "      <td>0.666667</td>\n",
              "      <td>0.000000</td>\n",
              "      <td>0.242424</td>\n",
              "      <td>1.0</td>\n",
              "      <td>0.112903</td>\n",
              "      <td>0.000000</td>\n",
              "      <td>0.476934</td>\n",
              "      <td>0.176471</td>\n",
              "      <td>1.0</td>\n",
              "      <td>...</td>\n",
              "      <td>0.00</td>\n",
              "      <td>0.00</td>\n",
              "      <td>0.0</td>\n",
              "      <td>0.0</td>\n",
              "      <td>0.0</td>\n",
              "      <td>1.0</td>\n",
              "      <td>0.00</td>\n",
              "      <td>0.0</td>\n",
              "      <td>0.00</td>\n",
              "      <td>0.0</td>\n",
              "    </tr>\n",
              "    <tr>\n",
              "      <th>79996</th>\n",
              "      <td>0.053257</td>\n",
              "      <td>0.000000</td>\n",
              "      <td>0.000000</td>\n",
              "      <td>0.606061</td>\n",
              "      <td>0.0</td>\n",
              "      <td>0.709677</td>\n",
              "      <td>0.000000</td>\n",
              "      <td>0.287653</td>\n",
              "      <td>0.352941</td>\n",
              "      <td>0.0</td>\n",
              "      <td>...</td>\n",
              "      <td>0.00</td>\n",
              "      <td>0.50</td>\n",
              "      <td>0.0</td>\n",
              "      <td>0.2</td>\n",
              "      <td>0.2</td>\n",
              "      <td>0.0</td>\n",
              "      <td>0.00</td>\n",
              "      <td>0.0</td>\n",
              "      <td>0.25</td>\n",
              "      <td>0.0</td>\n",
              "    </tr>\n",
              "    <tr>\n",
              "      <th>79997</th>\n",
              "      <td>0.129314</td>\n",
              "      <td>0.666667</td>\n",
              "      <td>0.000000</td>\n",
              "      <td>0.151515</td>\n",
              "      <td>1.0</td>\n",
              "      <td>0.370968</td>\n",
              "      <td>0.666667</td>\n",
              "      <td>0.547829</td>\n",
              "      <td>0.411765</td>\n",
              "      <td>1.0</td>\n",
              "      <td>...</td>\n",
              "      <td>0.00</td>\n",
              "      <td>0.00</td>\n",
              "      <td>0.0</td>\n",
              "      <td>0.0</td>\n",
              "      <td>0.0</td>\n",
              "      <td>0.0</td>\n",
              "      <td>0.00</td>\n",
              "      <td>0.2</td>\n",
              "      <td>0.00</td>\n",
              "      <td>0.2</td>\n",
              "    </tr>\n",
              "    <tr>\n",
              "      <th>79998</th>\n",
              "      <td>0.212604</td>\n",
              "      <td>0.000000</td>\n",
              "      <td>1.000000</td>\n",
              "      <td>0.727273</td>\n",
              "      <td>0.0</td>\n",
              "      <td>0.516129</td>\n",
              "      <td>0.000000</td>\n",
              "      <td>0.046811</td>\n",
              "      <td>0.705882</td>\n",
              "      <td>0.0</td>\n",
              "      <td>...</td>\n",
              "      <td>0.25</td>\n",
              "      <td>0.25</td>\n",
              "      <td>0.0</td>\n",
              "      <td>0.2</td>\n",
              "      <td>0.0</td>\n",
              "      <td>0.0</td>\n",
              "      <td>0.50</td>\n",
              "      <td>0.4</td>\n",
              "      <td>0.25</td>\n",
              "      <td>0.0</td>\n",
              "    </tr>\n",
              "    <tr>\n",
              "      <th>79999</th>\n",
              "      <td>0.550404</td>\n",
              "      <td>0.333333</td>\n",
              "      <td>0.000000</td>\n",
              "      <td>0.272727</td>\n",
              "      <td>1.0</td>\n",
              "      <td>0.177419</td>\n",
              "      <td>0.666667</td>\n",
              "      <td>0.115332</td>\n",
              "      <td>0.470588</td>\n",
              "      <td>0.5</td>\n",
              "      <td>...</td>\n",
              "      <td>0.00</td>\n",
              "      <td>0.00</td>\n",
              "      <td>0.0</td>\n",
              "      <td>0.0</td>\n",
              "      <td>0.2</td>\n",
              "      <td>0.0</td>\n",
              "      <td>0.00</td>\n",
              "      <td>0.0</td>\n",
              "      <td>0.00</td>\n",
              "      <td>0.0</td>\n",
              "    </tr>\n",
              "  </tbody>\n",
              "</table>\n",
              "<p>80000 rows × 23 columns</p>\n",
              "</div>\n",
              "      <button class=\"colab-df-convert\" onclick=\"convertToInteractive('df-04b1a83d-0c0f-41fa-b210-4d418ee193cc')\"\n",
              "              title=\"Convert this dataframe to an interactive table.\"\n",
              "              style=\"display:none;\">\n",
              "        \n",
              "  <svg xmlns=\"http://www.w3.org/2000/svg\" height=\"24px\"viewBox=\"0 0 24 24\"\n",
              "       width=\"24px\">\n",
              "    <path d=\"M0 0h24v24H0V0z\" fill=\"none\"/>\n",
              "    <path d=\"M18.56 5.44l.94 2.06.94-2.06 2.06-.94-2.06-.94-.94-2.06-.94 2.06-2.06.94zm-11 1L8.5 8.5l.94-2.06 2.06-.94-2.06-.94L8.5 2.5l-.94 2.06-2.06.94zm10 10l.94 2.06.94-2.06 2.06-.94-2.06-.94-.94-2.06-.94 2.06-2.06.94z\"/><path d=\"M17.41 7.96l-1.37-1.37c-.4-.4-.92-.59-1.43-.59-.52 0-1.04.2-1.43.59L10.3 9.45l-7.72 7.72c-.78.78-.78 2.05 0 2.83L4 21.41c.39.39.9.59 1.41.59.51 0 1.02-.2 1.41-.59l7.78-7.78 2.81-2.81c.8-.78.8-2.07 0-2.86zM5.41 20L4 18.59l7.72-7.72 1.47 1.35L5.41 20z\"/>\n",
              "  </svg>\n",
              "      </button>\n",
              "      \n",
              "  <style>\n",
              "    .colab-df-container {\n",
              "      display:flex;\n",
              "      flex-wrap:wrap;\n",
              "      gap: 12px;\n",
              "    }\n",
              "\n",
              "    .colab-df-convert {\n",
              "      background-color: #E8F0FE;\n",
              "      border: none;\n",
              "      border-radius: 50%;\n",
              "      cursor: pointer;\n",
              "      display: none;\n",
              "      fill: #1967D2;\n",
              "      height: 32px;\n",
              "      padding: 0 0 0 0;\n",
              "      width: 32px;\n",
              "    }\n",
              "\n",
              "    .colab-df-convert:hover {\n",
              "      background-color: #E2EBFA;\n",
              "      box-shadow: 0px 1px 2px rgba(60, 64, 67, 0.3), 0px 1px 3px 1px rgba(60, 64, 67, 0.15);\n",
              "      fill: #174EA6;\n",
              "    }\n",
              "\n",
              "    [theme=dark] .colab-df-convert {\n",
              "      background-color: #3B4455;\n",
              "      fill: #D2E3FC;\n",
              "    }\n",
              "\n",
              "    [theme=dark] .colab-df-convert:hover {\n",
              "      background-color: #434B5C;\n",
              "      box-shadow: 0px 1px 3px 1px rgba(0, 0, 0, 0.15);\n",
              "      filter: drop-shadow(0px 1px 2px rgba(0, 0, 0, 0.3));\n",
              "      fill: #FFFFFF;\n",
              "    }\n",
              "  </style>\n",
              "\n",
              "      <script>\n",
              "        const buttonEl =\n",
              "          document.querySelector('#df-04b1a83d-0c0f-41fa-b210-4d418ee193cc button.colab-df-convert');\n",
              "        buttonEl.style.display =\n",
              "          google.colab.kernel.accessAllowed ? 'block' : 'none';\n",
              "\n",
              "        async function convertToInteractive(key) {\n",
              "          const element = document.querySelector('#df-04b1a83d-0c0f-41fa-b210-4d418ee193cc');\n",
              "          const dataTable =\n",
              "            await google.colab.kernel.invokeFunction('convertToInteractive',\n",
              "                                                     [key], {});\n",
              "          if (!dataTable) return;\n",
              "\n",
              "          const docLinkHtml = 'Like what you see? Visit the ' +\n",
              "            '<a target=\"_blank\" href=https://colab.research.google.com/notebooks/data_table.ipynb>data table notebook</a>'\n",
              "            + ' to learn more about interactive tables.';\n",
              "          element.innerHTML = '';\n",
              "          dataTable['output_type'] = 'display_data';\n",
              "          await google.colab.output.renderOutput(dataTable, element);\n",
              "          const docLink = document.createElement('div');\n",
              "          docLink.innerHTML = docLinkHtml;\n",
              "          element.appendChild(docLink);\n",
              "        }\n",
              "      </script>\n",
              "    </div>\n",
              "  </div>\n",
              "  "
            ]
          },
          "metadata": {},
          "execution_count": 43
        }
      ],
      "source": [
        "oe = OrdinalEncoder()\n",
        "\n",
        "df_train[['Num_Bank_Accounts', 'Num_Credit_Card', 'Num_of_Loan', 'Num_of_Delayed_Payment', 'Credit_Mix', 'Payment_Behaviour', 'Payment_of_Min_Amount']] = oe.fit_transform(df_train[['Num_Bank_Accounts', 'Num_Credit_Card', 'Num_of_Loan', 'Num_of_Delayed_Payment', 'Credit_Mix', 'Payment_Behaviour', 'Payment_of_Min_Amount']])\n",
        "\n",
        "def normalize(df):\n",
        "    result = df.copy()\n",
        "    for feature_name in df.columns:\n",
        "        max_value = df[feature_name].max()\n",
        "        min_value = df[feature_name].min()\n",
        "        result[feature_name] = (df[feature_name] - min_value) / (max_value - min_value)\n",
        "    return result\n",
        "\n",
        "df_test = pd.get_dummies(df_test)\n",
        "df_train = normalize(df_train)\n",
        "\n",
        "df_train"
      ]
    },
    {
      "cell_type": "markdown",
      "source": [
        "Se repite el mismo proceso para el preprocesamiento del conjunto de datos de prueba."
      ],
      "metadata": {
        "id": "78uEVoVZkHQR"
      }
    },
    {
      "cell_type": "markdown",
      "metadata": {
        "id": "b7BMr0yQ93eY"
      },
      "source": [
        "# Pre procesamiento test\n",
        "Análogo al preprocesamiento del conjunto de datos de entrenamiento."
      ]
    },
    {
      "cell_type": "code",
      "execution_count": 44,
      "metadata": {
        "id": "GS0s_ver93eY"
      },
      "outputs": [],
      "source": [
        "# Columnas innecesarias\n",
        "df_test = df_test.drop('Month', axis=1)\n",
        "df_test = df_test.drop('Name', axis=1)\n",
        "df_test = df_test.drop('SSN', axis=1)\n",
        "df_test = df_test.drop('Occupation', axis=1)\n",
        "df_test = df_test.drop('ID', axis=1)\n",
        "df_test = df_test.drop('Customer_ID', axis=1)"
      ]
    },
    {
      "cell_type": "code",
      "source": [
        "# Columnas innecesarias después de analizar la tabla de correlaciones\n",
        "df_test = df_test.drop('Credit_Utilization_Ratio', axis=1)\n",
        "df_test = df_test.drop('Total_EMI_per_month', axis=1)\n",
        "df_test = df_test.drop('Amount_invested_monthly', axis=1)\n",
        "#df_test = df_test.drop('Payment_Behaviour', axis=1)\n",
        "df_test = df_test.drop('Monthly_Balance', axis=1)\n",
        "df_test = df_test.drop('Monthly_Inhand_Salary', axis=1)\n",
        "#df_test = df_test.drop('Type_of_Loan', axis=1)\n",
        "df_test = df_test.drop('Age', axis=1)\n",
        "df_test = df_test.drop('Outstanding_Debt', axis=1)\n"
      ],
      "metadata": {
        "id": "oXUb3S8dbd00"
      },
      "execution_count": 45,
      "outputs": []
    },
    {
      "cell_type": "code",
      "source": [
        "# Procesamiento de la columna TypeOfLoan\n",
        "count_vectorizer = CountVectorizer(tokenizer = lambda x: re.sub(\", \", \",\", x).replace(\"and \", \"\").split(',')) \n",
        "data = count_vectorizer.fit_transform(df_test['Type_of_Loan'])\n",
        "print(count_vectorizer.get_feature_names_out())\n",
        "\n",
        "data_array = data.toarray()\n",
        "#data_array[data_array > 1] = 1\n",
        "\n",
        "df_test[count_vectorizer.get_feature_names_out()] = data_array\n",
        "\n",
        "df_test = df_test.drop('Type_of_Loan', axis=1)"
      ],
      "metadata": {
        "colab": {
          "base_uri": "https://localhost:8080/"
        },
        "outputId": "096d26ea-0c17-4a0b-ee29-fb96ddbccc28",
        "id": "76SPxTS993eY"
      },
      "execution_count": 46,
      "outputs": [
        {
          "output_type": "stream",
          "name": "stdout",
          "text": [
            "['auto loan' 'credit-builder loan' 'debt consolidation loan'\n",
            " 'home equity loan' 'mortgage loan' 'no data' 'not specified'\n",
            " 'payday loan' 'personal loan' 'student loan']\n"
          ]
        }
      ]
    },
    {
      "cell_type": "code",
      "execution_count": 47,
      "metadata": {
        "id": "kLE9rbFY93eZ"
      },
      "outputs": [],
      "source": [
        "dos_categorias = [\"Bajo\", \"Alto\"]\n",
        "tres_categorias = [\"Bajo\", \"Medio\", \"Alto\"]\n",
        "cuatro_categorias = [\"Bajo\", \"Medio\", \"Alto\", \"Muy alto\"]\n",
        "cinco_categorias = [\"Muy bajo\", \"Bajo\", \"Medio\", \"Alto\", \"Muy alto\"]\n",
        "\n",
        "\n",
        "valores = [-math.inf, 2, 5, 8, math.inf]\n",
        "df_test[\"Num_Bank_Accounts\"] = pd.cut(x=df_test[\"Num_Bank_Accounts\"], bins=valores, labels=cuatro_categorias)\n",
        "\n",
        "valores = [-math.inf, 2, 4, 7, math.inf]\n",
        "df_test[\"Num_Credit_Card\"] = pd.cut(x=df_test[\"Num_Credit_Card\"], bins=valores, labels=cuatro_categorias)\n",
        "\n",
        "valores = [-math.inf, 4, math.inf]\n",
        "df_test[\"Num_of_Loan\"] = pd.cut(x=df_test[\"Num_of_Loan\"], bins=valores, labels=dos_categorias)\n",
        "\n",
        "valores = [-math.inf, 7, 14, 20, math.inf]\n",
        "df_test[\"Num_of_Delayed_Payment\"] = pd.cut(x=df_test[\"Num_of_Delayed_Payment\"], bins=valores, labels=cuatro_categorias)"
      ]
    },
    {
      "cell_type": "code",
      "execution_count": 48,
      "metadata": {
        "colab": {
          "base_uri": "https://localhost:8080/",
          "height": 522
        },
        "outputId": "542af42f-3ff4-494b-921c-910fdb4a78a4",
        "id": "Ie38wQvV93eZ"
      },
      "outputs": [
        {
          "output_type": "execute_result",
          "data": {
            "text/plain": [
              "       Annual_Income  Num_Bank_Accounts  Num_Credit_Card  Interest_Rate  \\\n",
              "0           0.293281           1.000000         1.000000       0.878788   \n",
              "1           0.070525           0.666667         0.000000       0.000000   \n",
              "2           0.247210           0.000000         0.000000       0.515152   \n",
              "3           0.320371           0.000000         1.000000       0.848485   \n",
              "4           0.700407           0.666667         0.000000       0.181818   \n",
              "...              ...                ...              ...            ...   \n",
              "19995       0.177790           0.666667         0.666667       0.060606   \n",
              "19996       0.131880           0.666667         0.666667       0.181818   \n",
              "19997       0.160354           0.666667         0.333333       0.060606   \n",
              "19998       0.307929           0.000000         0.000000       0.787879   \n",
              "19999       0.417931           0.333333         0.666667       0.333333   \n",
              "\n",
              "       Num_of_Loan  Delay_from_due_date  Num_of_Delayed_Payment  \\\n",
              "0              0.0             0.983871                1.000000   \n",
              "1              1.0             0.016129                0.666667   \n",
              "2              0.0             0.403226                0.666667   \n",
              "3              0.0             0.903226                0.000000   \n",
              "4              1.0             0.225806                0.333333   \n",
              "...            ...                  ...                     ...   \n",
              "19995          1.0             0.016129                0.666667   \n",
              "19996          1.0             0.080645                0.333333   \n",
              "19997          1.0             0.016129                0.666667   \n",
              "19998          0.0             0.483871                1.000000   \n",
              "19999          1.0             0.032258                0.333333   \n",
              "\n",
              "       Changed_Credit_Limit  Num_Credit_Inquiries  Credit_Mix  ...  auto loan  \\\n",
              "0                  0.670624              0.647059         0.0  ...       0.00   \n",
              "1                  0.356513              0.176471         0.5  ...       0.00   \n",
              "2                  0.094980              0.647059         1.0  ...       0.00   \n",
              "3                  0.647218              0.352941         1.0  ...       0.00   \n",
              "4                  0.281208              0.294118         0.5  ...       0.25   \n",
              "...                     ...                   ...         ...  ...        ...   \n",
              "19995              0.376526              0.176471         0.5  ...       0.00   \n",
              "19996              0.186228              0.235294         0.5  ...       0.00   \n",
              "19997              0.067164              0.176471         0.5  ...       0.00   \n",
              "19998              0.961669              0.647059         0.0  ...       0.00   \n",
              "19999              0.053256              0.058824         0.5  ...       0.00   \n",
              "\n",
              "       credit-builder loan  debt consolidation loan  home equity loan  \\\n",
              "0                     0.25                      0.0               0.2   \n",
              "1                     0.00                      0.0               0.0   \n",
              "2                     0.75                      0.2               0.0   \n",
              "3                     0.00                      0.6               0.0   \n",
              "4                     0.00                      0.0               0.2   \n",
              "...                    ...                      ...               ...   \n",
              "19995                 0.00                      0.2               0.2   \n",
              "19996                 0.25                      0.0               0.0   \n",
              "19997                 0.25                      0.0               0.2   \n",
              "19998                 0.25                      0.2               0.0   \n",
              "19999                 0.25                      0.0               0.0   \n",
              "\n",
              "       mortgage loan  no data  not specified  payday loan  personal loan  \\\n",
              "0                0.2      0.0           0.00          0.6            0.5   \n",
              "1                0.0      0.0           0.00          0.4            0.0   \n",
              "2                0.0      0.0           0.00          0.0            0.0   \n",
              "3                0.2      0.0           0.00          0.2            0.0   \n",
              "4                0.0      0.0           0.25          0.0            0.0   \n",
              "...              ...      ...            ...          ...            ...   \n",
              "19995            0.0      0.0           0.25          0.0            0.0   \n",
              "19996            0.0      0.0           0.00          0.0            0.0   \n",
              "19997            0.0      0.0           0.00          0.0            0.0   \n",
              "19998            0.2      0.0           0.00          0.2            0.0   \n",
              "19999            0.4      0.0           0.00          0.2            0.0   \n",
              "\n",
              "       student loan  \n",
              "0              0.25  \n",
              "1              0.50  \n",
              "2              0.50  \n",
              "3              0.00  \n",
              "4              0.25  \n",
              "...             ...  \n",
              "19995          0.00  \n",
              "19996          0.25  \n",
              "19997          0.25  \n",
              "19998          0.50  \n",
              "19999          0.00  \n",
              "\n",
              "[20000 rows x 23 columns]"
            ],
            "text/html": [
              "\n",
              "  <div id=\"df-3a14344e-1527-4fe2-aa1b-c02e73be50de\">\n",
              "    <div class=\"colab-df-container\">\n",
              "      <div>\n",
              "<style scoped>\n",
              "    .dataframe tbody tr th:only-of-type {\n",
              "        vertical-align: middle;\n",
              "    }\n",
              "\n",
              "    .dataframe tbody tr th {\n",
              "        vertical-align: top;\n",
              "    }\n",
              "\n",
              "    .dataframe thead th {\n",
              "        text-align: right;\n",
              "    }\n",
              "</style>\n",
              "<table border=\"1\" class=\"dataframe\">\n",
              "  <thead>\n",
              "    <tr style=\"text-align: right;\">\n",
              "      <th></th>\n",
              "      <th>Annual_Income</th>\n",
              "      <th>Num_Bank_Accounts</th>\n",
              "      <th>Num_Credit_Card</th>\n",
              "      <th>Interest_Rate</th>\n",
              "      <th>Num_of_Loan</th>\n",
              "      <th>Delay_from_due_date</th>\n",
              "      <th>Num_of_Delayed_Payment</th>\n",
              "      <th>Changed_Credit_Limit</th>\n",
              "      <th>Num_Credit_Inquiries</th>\n",
              "      <th>Credit_Mix</th>\n",
              "      <th>...</th>\n",
              "      <th>auto loan</th>\n",
              "      <th>credit-builder loan</th>\n",
              "      <th>debt consolidation loan</th>\n",
              "      <th>home equity loan</th>\n",
              "      <th>mortgage loan</th>\n",
              "      <th>no data</th>\n",
              "      <th>not specified</th>\n",
              "      <th>payday loan</th>\n",
              "      <th>personal loan</th>\n",
              "      <th>student loan</th>\n",
              "    </tr>\n",
              "  </thead>\n",
              "  <tbody>\n",
              "    <tr>\n",
              "      <th>0</th>\n",
              "      <td>0.293281</td>\n",
              "      <td>1.000000</td>\n",
              "      <td>1.000000</td>\n",
              "      <td>0.878788</td>\n",
              "      <td>0.0</td>\n",
              "      <td>0.983871</td>\n",
              "      <td>1.000000</td>\n",
              "      <td>0.670624</td>\n",
              "      <td>0.647059</td>\n",
              "      <td>0.0</td>\n",
              "      <td>...</td>\n",
              "      <td>0.00</td>\n",
              "      <td>0.25</td>\n",
              "      <td>0.0</td>\n",
              "      <td>0.2</td>\n",
              "      <td>0.2</td>\n",
              "      <td>0.0</td>\n",
              "      <td>0.00</td>\n",
              "      <td>0.6</td>\n",
              "      <td>0.5</td>\n",
              "      <td>0.25</td>\n",
              "    </tr>\n",
              "    <tr>\n",
              "      <th>1</th>\n",
              "      <td>0.070525</td>\n",
              "      <td>0.666667</td>\n",
              "      <td>0.000000</td>\n",
              "      <td>0.000000</td>\n",
              "      <td>1.0</td>\n",
              "      <td>0.016129</td>\n",
              "      <td>0.666667</td>\n",
              "      <td>0.356513</td>\n",
              "      <td>0.176471</td>\n",
              "      <td>0.5</td>\n",
              "      <td>...</td>\n",
              "      <td>0.00</td>\n",
              "      <td>0.00</td>\n",
              "      <td>0.0</td>\n",
              "      <td>0.0</td>\n",
              "      <td>0.0</td>\n",
              "      <td>0.0</td>\n",
              "      <td>0.00</td>\n",
              "      <td>0.4</td>\n",
              "      <td>0.0</td>\n",
              "      <td>0.50</td>\n",
              "    </tr>\n",
              "    <tr>\n",
              "      <th>2</th>\n",
              "      <td>0.247210</td>\n",
              "      <td>0.000000</td>\n",
              "      <td>0.000000</td>\n",
              "      <td>0.515152</td>\n",
              "      <td>0.0</td>\n",
              "      <td>0.403226</td>\n",
              "      <td>0.666667</td>\n",
              "      <td>0.094980</td>\n",
              "      <td>0.647059</td>\n",
              "      <td>1.0</td>\n",
              "      <td>...</td>\n",
              "      <td>0.00</td>\n",
              "      <td>0.75</td>\n",
              "      <td>0.2</td>\n",
              "      <td>0.0</td>\n",
              "      <td>0.0</td>\n",
              "      <td>0.0</td>\n",
              "      <td>0.00</td>\n",
              "      <td>0.0</td>\n",
              "      <td>0.0</td>\n",
              "      <td>0.50</td>\n",
              "    </tr>\n",
              "    <tr>\n",
              "      <th>3</th>\n",
              "      <td>0.320371</td>\n",
              "      <td>0.000000</td>\n",
              "      <td>1.000000</td>\n",
              "      <td>0.848485</td>\n",
              "      <td>0.0</td>\n",
              "      <td>0.903226</td>\n",
              "      <td>0.000000</td>\n",
              "      <td>0.647218</td>\n",
              "      <td>0.352941</td>\n",
              "      <td>1.0</td>\n",
              "      <td>...</td>\n",
              "      <td>0.00</td>\n",
              "      <td>0.00</td>\n",
              "      <td>0.6</td>\n",
              "      <td>0.0</td>\n",
              "      <td>0.2</td>\n",
              "      <td>0.0</td>\n",
              "      <td>0.00</td>\n",
              "      <td>0.2</td>\n",
              "      <td>0.0</td>\n",
              "      <td>0.00</td>\n",
              "    </tr>\n",
              "    <tr>\n",
              "      <th>4</th>\n",
              "      <td>0.700407</td>\n",
              "      <td>0.666667</td>\n",
              "      <td>0.000000</td>\n",
              "      <td>0.181818</td>\n",
              "      <td>1.0</td>\n",
              "      <td>0.225806</td>\n",
              "      <td>0.333333</td>\n",
              "      <td>0.281208</td>\n",
              "      <td>0.294118</td>\n",
              "      <td>0.5</td>\n",
              "      <td>...</td>\n",
              "      <td>0.25</td>\n",
              "      <td>0.00</td>\n",
              "      <td>0.0</td>\n",
              "      <td>0.2</td>\n",
              "      <td>0.0</td>\n",
              "      <td>0.0</td>\n",
              "      <td>0.25</td>\n",
              "      <td>0.0</td>\n",
              "      <td>0.0</td>\n",
              "      <td>0.25</td>\n",
              "    </tr>\n",
              "    <tr>\n",
              "      <th>...</th>\n",
              "      <td>...</td>\n",
              "      <td>...</td>\n",
              "      <td>...</td>\n",
              "      <td>...</td>\n",
              "      <td>...</td>\n",
              "      <td>...</td>\n",
              "      <td>...</td>\n",
              "      <td>...</td>\n",
              "      <td>...</td>\n",
              "      <td>...</td>\n",
              "      <td>...</td>\n",
              "      <td>...</td>\n",
              "      <td>...</td>\n",
              "      <td>...</td>\n",
              "      <td>...</td>\n",
              "      <td>...</td>\n",
              "      <td>...</td>\n",
              "      <td>...</td>\n",
              "      <td>...</td>\n",
              "      <td>...</td>\n",
              "      <td>...</td>\n",
              "    </tr>\n",
              "    <tr>\n",
              "      <th>19995</th>\n",
              "      <td>0.177790</td>\n",
              "      <td>0.666667</td>\n",
              "      <td>0.666667</td>\n",
              "      <td>0.060606</td>\n",
              "      <td>1.0</td>\n",
              "      <td>0.016129</td>\n",
              "      <td>0.666667</td>\n",
              "      <td>0.376526</td>\n",
              "      <td>0.176471</td>\n",
              "      <td>0.5</td>\n",
              "      <td>...</td>\n",
              "      <td>0.00</td>\n",
              "      <td>0.00</td>\n",
              "      <td>0.2</td>\n",
              "      <td>0.2</td>\n",
              "      <td>0.0</td>\n",
              "      <td>0.0</td>\n",
              "      <td>0.25</td>\n",
              "      <td>0.0</td>\n",
              "      <td>0.0</td>\n",
              "      <td>0.00</td>\n",
              "    </tr>\n",
              "    <tr>\n",
              "      <th>19996</th>\n",
              "      <td>0.131880</td>\n",
              "      <td>0.666667</td>\n",
              "      <td>0.666667</td>\n",
              "      <td>0.181818</td>\n",
              "      <td>1.0</td>\n",
              "      <td>0.080645</td>\n",
              "      <td>0.333333</td>\n",
              "      <td>0.186228</td>\n",
              "      <td>0.235294</td>\n",
              "      <td>0.5</td>\n",
              "      <td>...</td>\n",
              "      <td>0.00</td>\n",
              "      <td>0.25</td>\n",
              "      <td>0.0</td>\n",
              "      <td>0.0</td>\n",
              "      <td>0.0</td>\n",
              "      <td>0.0</td>\n",
              "      <td>0.00</td>\n",
              "      <td>0.0</td>\n",
              "      <td>0.0</td>\n",
              "      <td>0.25</td>\n",
              "    </tr>\n",
              "    <tr>\n",
              "      <th>19997</th>\n",
              "      <td>0.160354</td>\n",
              "      <td>0.666667</td>\n",
              "      <td>0.333333</td>\n",
              "      <td>0.060606</td>\n",
              "      <td>1.0</td>\n",
              "      <td>0.016129</td>\n",
              "      <td>0.666667</td>\n",
              "      <td>0.067164</td>\n",
              "      <td>0.176471</td>\n",
              "      <td>0.5</td>\n",
              "      <td>...</td>\n",
              "      <td>0.00</td>\n",
              "      <td>0.25</td>\n",
              "      <td>0.0</td>\n",
              "      <td>0.2</td>\n",
              "      <td>0.0</td>\n",
              "      <td>0.0</td>\n",
              "      <td>0.00</td>\n",
              "      <td>0.0</td>\n",
              "      <td>0.0</td>\n",
              "      <td>0.25</td>\n",
              "    </tr>\n",
              "    <tr>\n",
              "      <th>19998</th>\n",
              "      <td>0.307929</td>\n",
              "      <td>0.000000</td>\n",
              "      <td>0.000000</td>\n",
              "      <td>0.787879</td>\n",
              "      <td>0.0</td>\n",
              "      <td>0.483871</td>\n",
              "      <td>1.000000</td>\n",
              "      <td>0.961669</td>\n",
              "      <td>0.647059</td>\n",
              "      <td>0.0</td>\n",
              "      <td>...</td>\n",
              "      <td>0.00</td>\n",
              "      <td>0.25</td>\n",
              "      <td>0.2</td>\n",
              "      <td>0.0</td>\n",
              "      <td>0.2</td>\n",
              "      <td>0.0</td>\n",
              "      <td>0.00</td>\n",
              "      <td>0.2</td>\n",
              "      <td>0.0</td>\n",
              "      <td>0.50</td>\n",
              "    </tr>\n",
              "    <tr>\n",
              "      <th>19999</th>\n",
              "      <td>0.417931</td>\n",
              "      <td>0.333333</td>\n",
              "      <td>0.666667</td>\n",
              "      <td>0.333333</td>\n",
              "      <td>1.0</td>\n",
              "      <td>0.032258</td>\n",
              "      <td>0.333333</td>\n",
              "      <td>0.053256</td>\n",
              "      <td>0.058824</td>\n",
              "      <td>0.5</td>\n",
              "      <td>...</td>\n",
              "      <td>0.00</td>\n",
              "      <td>0.25</td>\n",
              "      <td>0.0</td>\n",
              "      <td>0.0</td>\n",
              "      <td>0.4</td>\n",
              "      <td>0.0</td>\n",
              "      <td>0.00</td>\n",
              "      <td>0.2</td>\n",
              "      <td>0.0</td>\n",
              "      <td>0.00</td>\n",
              "    </tr>\n",
              "  </tbody>\n",
              "</table>\n",
              "<p>20000 rows × 23 columns</p>\n",
              "</div>\n",
              "      <button class=\"colab-df-convert\" onclick=\"convertToInteractive('df-3a14344e-1527-4fe2-aa1b-c02e73be50de')\"\n",
              "              title=\"Convert this dataframe to an interactive table.\"\n",
              "              style=\"display:none;\">\n",
              "        \n",
              "  <svg xmlns=\"http://www.w3.org/2000/svg\" height=\"24px\"viewBox=\"0 0 24 24\"\n",
              "       width=\"24px\">\n",
              "    <path d=\"M0 0h24v24H0V0z\" fill=\"none\"/>\n",
              "    <path d=\"M18.56 5.44l.94 2.06.94-2.06 2.06-.94-2.06-.94-.94-2.06-.94 2.06-2.06.94zm-11 1L8.5 8.5l.94-2.06 2.06-.94-2.06-.94L8.5 2.5l-.94 2.06-2.06.94zm10 10l.94 2.06.94-2.06 2.06-.94-2.06-.94-.94-2.06-.94 2.06-2.06.94z\"/><path d=\"M17.41 7.96l-1.37-1.37c-.4-.4-.92-.59-1.43-.59-.52 0-1.04.2-1.43.59L10.3 9.45l-7.72 7.72c-.78.78-.78 2.05 0 2.83L4 21.41c.39.39.9.59 1.41.59.51 0 1.02-.2 1.41-.59l7.78-7.78 2.81-2.81c.8-.78.8-2.07 0-2.86zM5.41 20L4 18.59l7.72-7.72 1.47 1.35L5.41 20z\"/>\n",
              "  </svg>\n",
              "      </button>\n",
              "      \n",
              "  <style>\n",
              "    .colab-df-container {\n",
              "      display:flex;\n",
              "      flex-wrap:wrap;\n",
              "      gap: 12px;\n",
              "    }\n",
              "\n",
              "    .colab-df-convert {\n",
              "      background-color: #E8F0FE;\n",
              "      border: none;\n",
              "      border-radius: 50%;\n",
              "      cursor: pointer;\n",
              "      display: none;\n",
              "      fill: #1967D2;\n",
              "      height: 32px;\n",
              "      padding: 0 0 0 0;\n",
              "      width: 32px;\n",
              "    }\n",
              "\n",
              "    .colab-df-convert:hover {\n",
              "      background-color: #E2EBFA;\n",
              "      box-shadow: 0px 1px 2px rgba(60, 64, 67, 0.3), 0px 1px 3px 1px rgba(60, 64, 67, 0.15);\n",
              "      fill: #174EA6;\n",
              "    }\n",
              "\n",
              "    [theme=dark] .colab-df-convert {\n",
              "      background-color: #3B4455;\n",
              "      fill: #D2E3FC;\n",
              "    }\n",
              "\n",
              "    [theme=dark] .colab-df-convert:hover {\n",
              "      background-color: #434B5C;\n",
              "      box-shadow: 0px 1px 3px 1px rgba(0, 0, 0, 0.15);\n",
              "      filter: drop-shadow(0px 1px 2px rgba(0, 0, 0, 0.3));\n",
              "      fill: #FFFFFF;\n",
              "    }\n",
              "  </style>\n",
              "\n",
              "      <script>\n",
              "        const buttonEl =\n",
              "          document.querySelector('#df-3a14344e-1527-4fe2-aa1b-c02e73be50de button.colab-df-convert');\n",
              "        buttonEl.style.display =\n",
              "          google.colab.kernel.accessAllowed ? 'block' : 'none';\n",
              "\n",
              "        async function convertToInteractive(key) {\n",
              "          const element = document.querySelector('#df-3a14344e-1527-4fe2-aa1b-c02e73be50de');\n",
              "          const dataTable =\n",
              "            await google.colab.kernel.invokeFunction('convertToInteractive',\n",
              "                                                     [key], {});\n",
              "          if (!dataTable) return;\n",
              "\n",
              "          const docLinkHtml = 'Like what you see? Visit the ' +\n",
              "            '<a target=\"_blank\" href=https://colab.research.google.com/notebooks/data_table.ipynb>data table notebook</a>'\n",
              "            + ' to learn more about interactive tables.';\n",
              "          element.innerHTML = '';\n",
              "          dataTable['output_type'] = 'display_data';\n",
              "          await google.colab.output.renderOutput(dataTable, element);\n",
              "          const docLink = document.createElement('div');\n",
              "          docLink.innerHTML = docLinkHtml;\n",
              "          element.appendChild(docLink);\n",
              "        }\n",
              "      </script>\n",
              "    </div>\n",
              "  </div>\n",
              "  "
            ]
          },
          "metadata": {},
          "execution_count": 48
        }
      ],
      "source": [
        "oe = OrdinalEncoder()\n",
        "\n",
        "df_test[['Num_Bank_Accounts', 'Num_Credit_Card', 'Num_of_Loan', 'Num_of_Delayed_Payment', 'Credit_Mix', 'Payment_Behaviour', 'Payment_of_Min_Amount']] = oe.fit_transform(df_test[['Num_Bank_Accounts', 'Num_Credit_Card', 'Num_of_Loan', 'Num_of_Delayed_Payment', 'Credit_Mix', 'Payment_Behaviour', 'Payment_of_Min_Amount']])\n",
        "\n",
        "df_test = pd.get_dummies(df_test)\n",
        "df_test = normalize(df_test)\n",
        "\n",
        "df_test"
      ]
    },
    {
      "cell_type": "markdown",
      "metadata": {
        "id": "1sVbHA0lGcXs"
      },
      "source": [
        "# Entrenamiento"
      ]
    },
    {
      "cell_type": "markdown",
      "source": [
        "Se convierte a valores numéricos la variable objetivo"
      ],
      "metadata": {
        "id": "wH5N9EeO1P6-"
      }
    },
    {
      "cell_type": "code",
      "source": [
        "credit_score = y\n",
        "credit_score_ordinal = []\n",
        "for row in credit_score:\n",
        "  if row == \"Poor\":\n",
        "    credit_score_ordinal.append(0)\n",
        "  if row == \"Standard\":\n",
        "    credit_score_ordinal.append(1)\n",
        "  if row == \"Good\":\n",
        "    credit_score_ordinal.append(2)\n",
        "y = credit_score_ordinal"
      ],
      "metadata": {
        "id": "_I1fbxMMYSTQ"
      },
      "execution_count": 49,
      "outputs": []
    },
    {
      "cell_type": "markdown",
      "source": [
        "Se ha elegido el clasificador XGBoost, algoritmo de boosting, por el rendimiento superior en comparación a otros modelos con el mismo preprocesamiento.\n",
        "\n",
        "Vamos a utilizar un grid search para encontrar la combinación óptima de parámetros."
      ],
      "metadata": {
        "id": "EXLwtwds1Sp7"
      }
    },
    {
      "cell_type": "code",
      "source": [
        "import xgboost\n",
        "from sklearn.model_selection import train_test_split\n",
        "\n",
        "\n",
        "X = df_train  #.iloc[:,:-1]\n",
        "y = credit_score_ordinal\n",
        "\n",
        "X_train, X_test, y_train, y_test = train_test_split(X, y, test_size=0.33, random_state=42)\n",
        "\n",
        "\n",
        "# Se define el clasificador que determinará la calidad de la combinación de parámetros dentro del grid search:\n",
        "estimador = xgboost.XGBClassifier(\n",
        "                learning_rate=0.02,\n",
        "                n_estimators=10,\n",
        "                objective='binary:logistic',       # 600 estimators\n",
        "                silent=True, nthread=1\n",
        ")\n",
        "\n",
        "# Matriz de parámetros para realizar combinaciones:\n",
        "params = {\n",
        "    'max_depth': [6, 9],                                  # profundidad de los árboles\n",
        "    'learning_rate': [0.001, 0.01, 0.1],                  # tasa de aprendizaje, para la actualización respecto de los árboles generados\n",
        "    'gamma': [0.01, 0.1],\n",
        "    'colsample_bytree': np.arange(0.5, 1.0, 0.1),\n",
        "    'colsample_bylevel': np.arange(0.5, 1.0, 0.1),\n",
        "    'booster': ['gbtree', 'dart']\n",
        "}\n",
        "\n",
        "gs2 = RandomizedSearchCV(estimator=estimador,\n",
        "                             param_distributions=params,\n",
        "                             scoring='accuracy',\n",
        "                             n_iter=5,\n",
        "                             n_jobs=4,\n",
        "                             verbose=1)\n",
        "\n",
        "gs2.fit(X_train, y_train) \n",
        "\n",
        "\n",
        "print('Best score:', gs2.best_score_)\n",
        "print('Best score:', gs2.best_params_)\n"
      ],
      "metadata": {
        "colab": {
          "base_uri": "https://localhost:8080/"
        },
        "id": "gcGpRgcJX-hm",
        "outputId": "8df38a0b-c499-43ee-b3bf-8e8732a39e41"
      },
      "execution_count": 59,
      "outputs": [
        {
          "output_type": "stream",
          "name": "stdout",
          "text": [
            "Fitting 5 folds for each of 5 candidates, totalling 25 fits\n",
            "Best score: 0.7218283582089553\n",
            "Best score: {'max_depth': 9, 'learning_rate': 0.1, 'gamma': 0.01, 'colsample_bytree': 0.7999999999999999, 'colsample_bylevel': 0.7999999999999999, 'booster': 'gbtree'}\n"
          ]
        }
      ]
    },
    {
      "cell_type": "markdown",
      "source": [
        "Se prueba la combinación de parámetros con un clasificador XGBoost entrenando y probando."
      ],
      "metadata": {
        "id": "946QB2s-19Y3"
      }
    },
    {
      "cell_type": "code",
      "source": [
        "from sklearn.metrics import f1_score\n",
        "\n",
        "\n",
        "xgb_con_grisearch = xgboost.XGBClassifier(\n",
        "    max_depth=9,\n",
        "    learning_rate=0.1,\n",
        "    gamma=0.01,\n",
        "    n_estimators=300,\n",
        "    reg_alpha=1.1,\n",
        "    colsample_bytree = 0.7999999999999999, #0.9, \n",
        "    colsample_bylevel = 0.7999999999999999,\n",
        "    booster='gbtree',\n",
        "    subsample = 0.75,\n",
        "    n_jobs = 5,\n",
        "    objective='multi:softmax',\n",
        "    num_class=3,\n",
        "    random_state=42\n",
        ")\n",
        "\n",
        "\n",
        "xgb_con_grisearch.fit(X_train, y_train) \n",
        "\n",
        "y_pred = xgb_con_grisearch.predict(X_train)                         # train\n",
        "y_pred_test = xgb_con_grisearch.predict(X_test)\n",
        "y_pred_dftest = xgb_con_grisearch.predict(df_test)\n",
        "\n",
        "\n",
        "print(f1_score(y_train, y_pred, average=\"macro\"))                   # train\n",
        "print(f1_score(y_test, y_pred_test, average=\"macro\"))               # test"
      ],
      "metadata": {
        "colab": {
          "base_uri": "https://localhost:8080/"
        },
        "id": "VwerQ3ygYP55",
        "outputId": "650ea24a-1476-4b60-ae22-3486cd6366fc"
      },
      "execution_count": 78,
      "outputs": [
        {
          "output_type": "stream",
          "name": "stdout",
          "text": [
            "0.924338536055837\n",
            "0.777552200997377\n"
          ]
        }
      ]
    },
    {
      "cell_type": "markdown",
      "source": [
        "Sin embargo, definiendo un 'objective' y aumentando los parámetros colsample ligeramente, el modelo gana algo de precisión:"
      ],
      "metadata": {
        "id": "hCOGJJvs2G9k"
      }
    },
    {
      "cell_type": "code",
      "source": [
        "xgb_sin_gridsearch = xgboost.XGBClassifier(\n",
        "    max_depth=9,\n",
        "    learning_rate=0.1,\n",
        "    n_estimators=300,\n",
        "    reg_alpha=1.1,\n",
        "    colsample_bytree = 0.9, \n",
        "    subsample = 0.9,\n",
        "    n_jobs = 5,\n",
        "    objective='multi:softmax',\n",
        "    num_class=3,\n",
        "    random_state=42\n",
        ")\n",
        "\n",
        "\n",
        "xgb_sin_gridsearch.fit(X_train, y_train) \n",
        "\n",
        "y_pred = xgb_sin_gridsearch.predict(X_train)                         # train\n",
        "y_pred_test = xgb_sin_gridsearch.predict(X_test)\n",
        "y_pred_dftest = xgb_sin_gridsearch.predict(df_test)\n",
        "\n",
        "print(f1_score(y_train, y_pred, average=\"macro\"))                   # train\n",
        "print(f1_score(y_test, y_pred_test, average=\"macro\"))               # test"
      ],
      "metadata": {
        "colab": {
          "base_uri": "https://localhost:8080/"
        },
        "id": "PyLjpopzPnWM",
        "outputId": "5b653e9c-d83d-4ca6-c072-81e9fd0a9614"
      },
      "execution_count": 80,
      "outputs": [
        {
          "output_type": "stream",
          "name": "stdout",
          "text": [
            "0.924338536055837\n",
            "0.777552200997377\n"
          ]
        }
      ]
    },
    {
      "cell_type": "markdown",
      "source": [
        "## Random Forest (NO)"
      ],
      "metadata": {
        "id": "Nmb2D_TEcDJr"
      }
    },
    {
      "cell_type": "code",
      "source": [
        "#Importing Libraries\n",
        "import numpy as np\n",
        "import pandas as pd\n",
        "from sklearn.model_selection import train_test_split\n",
        "from sklearn.preprocessing import StandardScaler\n",
        "from sklearn.ensemble import RandomForestClassifier\n",
        "from sklearn.metrics import confusion_matrix\n",
        "\n",
        "# https://medium.com/analytics-vidhya/random-forest-classifier-and-its-hyperparameters-8467bec755f6\n",
        "\n",
        "X = df_train.iloc[:,:-1]\n",
        "\n",
        "# Fitting Random Forest Classification to the Training set\n",
        "X_train, X_test, y_train, y_test = train_test_split(X, y, test_size=0.5, random_state=0)\n",
        "\n",
        "\n",
        "# Feature Scaling\n",
        "scaler = StandardScaler()\n",
        "X_train = scaler.fit_transform(X_train)\n",
        "X_test = scaler.transform(X_test)\n",
        "\n",
        "\n",
        "classifier = RandomForestClassifier(n_estimators = 10, criterion = 'entropy', random_state = 42, max_depth = 9, max_features = 10)\n",
        "classifier.fit(X_train, y_train)\n",
        "\n",
        "y_pred_train = classifier.predict(X_train)\n",
        "y_pred = classifier.predict(X_test)\n",
        "y_pred_test = classifier.predict(df_test)\n",
        "\n",
        "from sklearn.metrics import f1_score\n",
        "print(f1_score(y_train, y_pred_train, average=None))\n",
        "print(f1_score(y_test, y_pred, average=None))\n",
        "# print(f\"The score is: {f1}\") "
      ],
      "metadata": {
        "colab": {
          "base_uri": "https://localhost:8080/"
        },
        "id": "ux6V-DvIAibj",
        "outputId": "be291fc7-96b8-4c03-ba4e-30e627ea4552"
      },
      "execution_count": null,
      "outputs": [
        {
          "output_type": "stream",
          "name": "stdout",
          "text": [
            "[0.72653612 0.76910592 0.62250119]\n",
            "[0.70596699 0.7515832  0.5990991 ]\n"
          ]
        },
        {
          "output_type": "stream",
          "name": "stderr",
          "text": [
            "/usr/local/lib/python3.7/dist-packages/sklearn/base.py:444: UserWarning: X has feature names, but RandomForestClassifier was fitted without feature names\n",
            "  f\"X has feature names, but {self.__class__.__name__} was fitted without\"\n"
          ]
        }
      ]
    },
    {
      "cell_type": "code",
      "execution_count": null,
      "metadata": {
        "colab": {
          "base_uri": "https://localhost:8080/",
          "height": 415
        },
        "id": "BrwYJaRoUQDd",
        "outputId": "05bace13-9f54-430e-a67e-37a92c6e11f4"
      },
      "outputs": [
        {
          "output_type": "stream",
          "name": "stderr",
          "text": [
            "/usr/local/lib/python3.7/dist-packages/sklearn/naive_bayes.py:557: UserWarning: alpha too small will result in numeric errors, setting alpha = 1.0e-10\n",
            "  % _ALPHA_MIN\n"
          ]
        },
        {
          "output_type": "error",
          "ename": "IndexError",
          "evalue": "ignored",
          "traceback": [
            "\u001b[0;31m---------------------------------------------------------------------------\u001b[0m",
            "\u001b[0;31mIndexError\u001b[0m                                Traceback (most recent call last)",
            "\u001b[0;32m<ipython-input-53-aa7748989917>\u001b[0m in \u001b[0;36m<module>\u001b[0;34m\u001b[0m\n\u001b[1;32m     11\u001b[0m \u001b[0;34m\u001b[0m\u001b[0m\n\u001b[1;32m     12\u001b[0m \u001b[0mclf\u001b[0m\u001b[0;34m.\u001b[0m\u001b[0mfit\u001b[0m\u001b[0;34m(\u001b[0m\u001b[0mX_train\u001b[0m\u001b[0;34m,\u001b[0m \u001b[0my_train\u001b[0m\u001b[0;34m)\u001b[0m\u001b[0;34m\u001b[0m\u001b[0;34m\u001b[0m\u001b[0m\n\u001b[0;32m---> 13\u001b[0;31m \u001b[0mputa_pred\u001b[0m \u001b[0;34m=\u001b[0m \u001b[0mclf\u001b[0m\u001b[0;34m.\u001b[0m\u001b[0mpredict\u001b[0m\u001b[0;34m(\u001b[0m\u001b[0mX_test\u001b[0m\u001b[0;34m)\u001b[0m\u001b[0;34m\u001b[0m\u001b[0;34m\u001b[0m\u001b[0m\n\u001b[0m\u001b[1;32m     14\u001b[0m \u001b[0;34m\u001b[0m\u001b[0m\n\u001b[1;32m     15\u001b[0m \u001b[0mputa_pred\u001b[0m\u001b[0;34m\u001b[0m\u001b[0;34m\u001b[0m\u001b[0m\n",
            "\u001b[0;32m/usr/local/lib/python3.7/dist-packages/sklearn/naive_bayes.py\u001b[0m in \u001b[0;36mpredict\u001b[0;34m(self, X)\u001b[0m\n\u001b[1;32m     81\u001b[0m         \u001b[0mcheck_is_fitted\u001b[0m\u001b[0;34m(\u001b[0m\u001b[0mself\u001b[0m\u001b[0;34m)\u001b[0m\u001b[0;34m\u001b[0m\u001b[0;34m\u001b[0m\u001b[0m\n\u001b[1;32m     82\u001b[0m         \u001b[0mX\u001b[0m \u001b[0;34m=\u001b[0m \u001b[0mself\u001b[0m\u001b[0;34m.\u001b[0m\u001b[0m_check_X\u001b[0m\u001b[0;34m(\u001b[0m\u001b[0mX\u001b[0m\u001b[0;34m)\u001b[0m\u001b[0;34m\u001b[0m\u001b[0;34m\u001b[0m\u001b[0m\n\u001b[0;32m---> 83\u001b[0;31m         \u001b[0mjll\u001b[0m \u001b[0;34m=\u001b[0m \u001b[0mself\u001b[0m\u001b[0;34m.\u001b[0m\u001b[0m_joint_log_likelihood\u001b[0m\u001b[0;34m(\u001b[0m\u001b[0mX\u001b[0m\u001b[0;34m)\u001b[0m\u001b[0;34m\u001b[0m\u001b[0;34m\u001b[0m\u001b[0m\n\u001b[0m\u001b[1;32m     84\u001b[0m         \u001b[0;32mreturn\u001b[0m \u001b[0mself\u001b[0m\u001b[0;34m.\u001b[0m\u001b[0mclasses_\u001b[0m\u001b[0;34m[\u001b[0m\u001b[0mnp\u001b[0m\u001b[0;34m.\u001b[0m\u001b[0margmax\u001b[0m\u001b[0;34m(\u001b[0m\u001b[0mjll\u001b[0m\u001b[0;34m,\u001b[0m \u001b[0maxis\u001b[0m\u001b[0;34m=\u001b[0m\u001b[0;36m1\u001b[0m\u001b[0;34m)\u001b[0m\u001b[0;34m]\u001b[0m\u001b[0;34m\u001b[0m\u001b[0;34m\u001b[0m\u001b[0m\n\u001b[1;32m     85\u001b[0m \u001b[0;34m\u001b[0m\u001b[0m\n",
            "\u001b[0;32m/usr/local/lib/python3.7/dist-packages/sklearn/naive_bayes.py\u001b[0m in \u001b[0;36m_joint_log_likelihood\u001b[0;34m(self, X)\u001b[0m\n\u001b[1;32m   1459\u001b[0m         \u001b[0;32mfor\u001b[0m \u001b[0mi\u001b[0m \u001b[0;32min\u001b[0m \u001b[0mrange\u001b[0m\u001b[0;34m(\u001b[0m\u001b[0mself\u001b[0m\u001b[0;34m.\u001b[0m\u001b[0mn_features_in_\u001b[0m\u001b[0;34m)\u001b[0m\u001b[0;34m:\u001b[0m\u001b[0;34m\u001b[0m\u001b[0;34m\u001b[0m\u001b[0m\n\u001b[1;32m   1460\u001b[0m             \u001b[0mindices\u001b[0m \u001b[0;34m=\u001b[0m \u001b[0mX\u001b[0m\u001b[0;34m[\u001b[0m\u001b[0;34m:\u001b[0m\u001b[0;34m,\u001b[0m \u001b[0mi\u001b[0m\u001b[0;34m]\u001b[0m\u001b[0;34m\u001b[0m\u001b[0;34m\u001b[0m\u001b[0m\n\u001b[0;32m-> 1461\u001b[0;31m             \u001b[0mjll\u001b[0m \u001b[0;34m+=\u001b[0m \u001b[0mself\u001b[0m\u001b[0;34m.\u001b[0m\u001b[0mfeature_log_prob_\u001b[0m\u001b[0;34m[\u001b[0m\u001b[0mi\u001b[0m\u001b[0;34m]\u001b[0m\u001b[0;34m[\u001b[0m\u001b[0;34m:\u001b[0m\u001b[0;34m,\u001b[0m \u001b[0mindices\u001b[0m\u001b[0;34m]\u001b[0m\u001b[0;34m.\u001b[0m\u001b[0mT\u001b[0m\u001b[0;34m\u001b[0m\u001b[0;34m\u001b[0m\u001b[0m\n\u001b[0m\u001b[1;32m   1462\u001b[0m         \u001b[0mtotal_ll\u001b[0m \u001b[0;34m=\u001b[0m \u001b[0mjll\u001b[0m \u001b[0;34m+\u001b[0m \u001b[0mself\u001b[0m\u001b[0;34m.\u001b[0m\u001b[0mclass_log_prior_\u001b[0m\u001b[0;34m\u001b[0m\u001b[0;34m\u001b[0m\u001b[0m\n\u001b[1;32m   1463\u001b[0m         \u001b[0;32mreturn\u001b[0m \u001b[0mtotal_ll\u001b[0m\u001b[0;34m\u001b[0m\u001b[0;34m\u001b[0m\u001b[0m\n",
            "\u001b[0;31mIndexError\u001b[0m: index 79998 is out of bounds for axis 1 with size 79998"
          ]
        }
      ],
      "source": [
        "# Hyperparameter Tuning to improve Accuracy\n",
        "\n",
        "# https://www.kaggle.com/code/akshaysharma001/naive-bayes-with-hyperpameter-tuning\n",
        "\n",
        "\n",
        "\n",
        "from sklearn.naive_bayes import CategoricalNB\n",
        "\n",
        "X_train, X_test, y_train, y_test = train_test_split(X, y, test_size=0.5, random_state=0)\n",
        "clf = CategoricalNB(alpha=0)\n",
        "\n",
        "clf.fit(X_train, y_train)\n",
        "y_pred = clf.predict(X_test)\n",
        "\n",
        "y_pred"
      ]
    },
    {
      "cell_type": "markdown",
      "source": [
        "# Otros"
      ],
      "metadata": {
        "id": "VLGg-OpvcRGz"
      }
    },
    {
      "cell_type": "code",
      "source": [
        "submission['Credit_Score'] = y_pred_dftest\n",
        "\n",
        "submission.to_csv(\"ML_GRUPO7.csv\", index=False)"
      ],
      "metadata": {
        "id": "QQFADQgc-gRE"
      },
      "execution_count": 74,
      "outputs": []
    },
    {
      "cell_type": "code",
      "source": [
        "submission.Credit_Score = submission.Credit_Score.replace({0: \"Poor\", 1: \"Standard\", 2: \"Good\"})"
      ],
      "metadata": {
        "id": "0qMgs1DI-sSH"
      },
      "execution_count": 75,
      "outputs": []
    },
    {
      "cell_type": "code",
      "source": [
        "from google.colab import files\n",
        "submission.to_csv('submission_grupo7.csv', index=False) \n",
        "files.download('submission_grupo7.csv')"
      ],
      "metadata": {
        "colab": {
          "base_uri": "https://localhost:8080/",
          "height": 17
        },
        "id": "-4UVla6V-jGq",
        "outputId": "19f60abe-245a-46a7-880b-984544cae1c9"
      },
      "execution_count": 76,
      "outputs": [
        {
          "output_type": "display_data",
          "data": {
            "text/plain": [
              "<IPython.core.display.Javascript object>"
            ],
            "application/javascript": [
              "\n",
              "    async function download(id, filename, size) {\n",
              "      if (!google.colab.kernel.accessAllowed) {\n",
              "        return;\n",
              "      }\n",
              "      const div = document.createElement('div');\n",
              "      const label = document.createElement('label');\n",
              "      label.textContent = `Downloading \"${filename}\": `;\n",
              "      div.appendChild(label);\n",
              "      const progress = document.createElement('progress');\n",
              "      progress.max = size;\n",
              "      div.appendChild(progress);\n",
              "      document.body.appendChild(div);\n",
              "\n",
              "      const buffers = [];\n",
              "      let downloaded = 0;\n",
              "\n",
              "      const channel = await google.colab.kernel.comms.open(id);\n",
              "      // Send a message to notify the kernel that we're ready.\n",
              "      channel.send({})\n",
              "\n",
              "      for await (const message of channel.messages) {\n",
              "        // Send a message to notify the kernel that we're ready.\n",
              "        channel.send({})\n",
              "        if (message.buffers) {\n",
              "          for (const buffer of message.buffers) {\n",
              "            buffers.push(buffer);\n",
              "            downloaded += buffer.byteLength;\n",
              "            progress.value = downloaded;\n",
              "          }\n",
              "        }\n",
              "      }\n",
              "      const blob = new Blob(buffers, {type: 'application/binary'});\n",
              "      const a = document.createElement('a');\n",
              "      a.href = window.URL.createObjectURL(blob);\n",
              "      a.download = filename;\n",
              "      div.appendChild(a);\n",
              "      a.click();\n",
              "      div.remove();\n",
              "    }\n",
              "  "
            ]
          },
          "metadata": {}
        },
        {
          "output_type": "display_data",
          "data": {
            "text/plain": [
              "<IPython.core.display.Javascript object>"
            ],
            "application/javascript": [
              "download(\"download_4805ae95-0f18-40c2-8f84-8e47374a28ca\", \"submission_grupo7.csv\", 269757)"
            ]
          },
          "metadata": {}
        }
      ]
    },
    {
      "cell_type": "markdown",
      "metadata": {
        "id": "QtrVF0gc2aaf"
      },
      "source": [
        "# Fuentes"
      ]
    },
    {
      "cell_type": "markdown",
      "metadata": {
        "id": "G1qzI0FfKJ1Y"
      },
      "source": [
        "https://es.stackoverflow.com/questions/398654/como-ordenar-porcentajes-en-grafica-de-barras\n",
        "\n",
        "\n",
        "\n",
        "Plot correlation in pandas\n",
        "\n",
        "https://www.stackvidhya.com/plot-correlation-matrix-in-pandas-python/\n",
        "\n",
        "\n",
        "Tablas y cosas chulas\n",
        "\n",
        "https://relopezbriega.github.io/blog/2016/02/29/analisis-de-datos-categoricos-con-python/"
      ]
    }
  ],
  "metadata": {
    "colab": {
      "collapsed_sections": [
        "niUmVXcaIByz",
        "Nmb2D_TEcDJr",
        "QtrVF0gc2aaf"
      ],
      "provenance": []
    },
    "kernelspec": {
      "display_name": "Python 3",
      "name": "python3"
    },
    "language_info": {
      "name": "python"
    }
  },
  "nbformat": 4,
  "nbformat_minor": 0
}